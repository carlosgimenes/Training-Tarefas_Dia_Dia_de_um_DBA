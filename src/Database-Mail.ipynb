{
    "metadata": {
        "kernelspec": {
            "name": "SQL",
            "display_name": "SQL",
            "language": "sql"
        },
        "language_info": {
            "name": "sql",
            "version": ""
        }
    },
    "nbformat_minor": 2,
    "nbformat": 4,
    "cells": [
        {
            "cell_type": "markdown",
            "source": [
                "# **SQL Server Database Mail**\n",
                "\n",
                "- Carlos Eduardo Gimenes\n",
                "- Last Modified: July, 2023\n",
                "\n",
                "> **Copyright (C) 2023 Carlos Eduardo Gimenes**  \n",
                "> All rights reserved.  \n",
                "> You may alter this code for your own _non-commercial_ purposes.  \n",
                "> You may republish altered code as long as you include this copyright and give due credit.\n",
                "> \n",
                "> THIS CODE AND INFORMATION ARE PROVIDED \"AS IS\" WITHOUT WARRANTY OF ANY KIND, EITHER EXPRESSED OR IMPLIED, INCLUDING BUT NOT LIMITED TO THE IMPLIED WARRANTIES OF MERCHANTABILITY AND/OR FITNESS FOR A PARTICULAR PURPOSE."
            ],
            "metadata": {
                "azdata_cell_guid": "e3aaee72-03ef-464a-ac90-ce6056296d7a"
            },
            "attachments": {}
        },
        {
            "cell_type": "markdown",
            "source": [
                "## <span style=\"color: var(--vscode-foreground);\"><b>Database Mail and Email Alerts with SQL Agent on Linux</b></span>\n",
                "\n",
                "[Fonte: Microsoft learn](https://learn.microsoft.com/en-us/sql/linux/sql-server-linux-db-mail-sql-agent?view=sql-server-ver16)<span style=\"color: var(--vscode-foreground);\"><b><br></b></span>"
            ],
            "metadata": {
                "azdata_cell_guid": "2cc2f5a5-c221-49cc-96d0-0c146d06ecea"
            },
            "attachments": {}
        },
        {
            "cell_type": "markdown",
            "source": [
                "### **Step 1 - Enable Database Mail**"
            ],
            "metadata": {
                "azdata_cell_guid": "108c3f0e-e85f-4c40-a6bd-e9d4c166bfc2"
            },
            "attachments": {}
        },
        {
            "cell_type": "code",
            "source": [
                "USE master \n",
                "GO \n",
                "sp_configure 'show advanced options',1 \n",
                "GO \n",
                "RECONFIGURE WITH OVERRIDE \n",
                "GO \n",
                "sp_configure 'Database Mail XPs', 1 \n",
                "GO \n",
                "RECONFIGURE  \n",
                "GO"
            ],
            "metadata": {
                "azdata_cell_guid": "418bc2d0-0ae1-4836-a422-f8a51cd7f55c",
                "language": "sql"
            },
            "outputs": [],
            "execution_count": null
        },
        {
            "cell_type": "markdown",
            "source": [
                "### **Step 2 - Create a new account**"
            ],
            "metadata": {
                "language": "sql",
                "azdata_cell_guid": "4cb4ebff-20c0-4fff-b077-78418eb289da"
            },
            "attachments": {}
        },
        {
            "cell_type": "code",
            "source": [
                "EXECUTE msdb.dbo.sysmail_add_account_sp \n",
                "@account_name = 'MSSQLServer',                                -- ATENCAO AJUSTAR (Sugestao Documentacao: SQLAlerts)\n",
                "@description = 'Account for Automated DBA Notifications',     -- ATENCAO AJUSTAR (Sugestao Documentacao: Account for Automated DBA Notifications)\n",
                "@email_address = 'usuario@dominio.com',                       -- ATENCAO AJUSTAR\n",
                "@replyto_address = 'usuario@dominio.com',                     -- ATENCAO AJUSTAR\n",
                "@display_name = 'NomeServidor - SQL Agent',                   -- ATENCAO AJUSTAR (Sugestao Documentacao: SQL Agent)\n",
                "@mailserver_name = 'smtp.gmail.com',                          -- ATENCAO AJUSTAR (Este exemplo utiliza uma conta do Gmail)\n",
                "@port = 587,                                                  -- ATENCAO AJUSTAR (Este exemplo utiliza porta do Gmail)\n",
                "@enable_ssl = 1, \n",
                "@username = 'usuario@gmail.com',                              -- ATENCAO AJUSTAR (Nome da conta do Gmail para o mailserver informado acima)\n",
                "@password = 'INFORMAR-SENHA-APLICATIVO'                       -- ATENCAO AJUSTAR (Necessario gerar para utilizar aqui)\n",
                "\n",
                "GO"
            ],
            "metadata": {
                "language": "sql",
                "azdata_cell_guid": "2ead7a33-9391-40e1-ad0c-1b9c201b3eab",
                "tags": []
            },
            "outputs": [],
            "execution_count": null
        },
        {
            "cell_type": "markdown",
            "source": [
                "### **Step 3 - Create a default profile**"
            ],
            "metadata": {
                "language": "sql",
                "azdata_cell_guid": "d6911b8a-545e-4915-b7ab-65fb8ffb4843"
            },
            "attachments": {}
        },
        {
            "cell_type": "code",
            "source": [
                "EXECUTE msdb.dbo.sysmail_add_profile_sp \n",
                "@profile_name = 'MSSQLServer',                                      -- ATENCAO AJUSTAR (Sugestao Documentacao: default)\n",
                "@description = 'Profile for sending Automated DBA Notifications'    -- ATENCAO AJUSTAR (Sugestao Documentacao: Profile for sending Automated DBA Notifications)\n",
                "GO"
            ],
            "metadata": {
                "language": "sql",
                "azdata_cell_guid": "9f30b9ce-c9fc-4a0e-a4f0-b36b2e9a2d50"
            },
            "outputs": [],
            "execution_count": null
        },
        {
            "cell_type": "markdown",
            "source": [
                "### **Step 4 - Add the Database Mail account to a Database Mail profile**"
            ],
            "metadata": {
                "language": "sql",
                "azdata_cell_guid": "ba363943-d50c-4bcc-a23c-df7954b40ee7"
            },
            "attachments": {}
        },
        {
            "cell_type": "code",
            "source": [
                "EXECUTE msdb.dbo.sysmail_add_principalprofile_sp \n",
                "@profile_name = 'MSSQLServer',                              -- ATENCAO AJUSTAR (Sugestao Documentacao: default)\n",
                "@principal_name = 'public',                                 -- ATENCAO AJUSTAR (Sugestao Documentacao: public)\n",
                "@is_default = 1 ;"
            ],
            "metadata": {
                "language": "sql",
                "azdata_cell_guid": "ce1cf923-dd5e-456b-b2ef-81be0e784b75"
            },
            "outputs": [],
            "execution_count": null
        },
        {
            "cell_type": "markdown",
            "source": [
                "### **Step 5 - Add account to profile**"
            ],
            "metadata": {
                "language": "sql",
                "azdata_cell_guid": "887c62aa-334f-4ad4-b8d9-d67c7e15202b"
            },
            "attachments": {}
        },
        {
            "cell_type": "code",
            "source": [
                "EXECUTE msdb.dbo.sysmail_add_profileaccount_sp   \n",
                "@profile_name = 'MSSQLServer',                                  -- ATENCAO AJUSTAR (Sugestao Documentacao: default)\n",
                "@account_name = 'MSSQLServer',                                  -- ATENCAO AJUSTAR (Sugestao Documentacao: SQLAlerts)\n",
                "@sequence_number = 1;"
            ],
            "metadata": {
                "language": "sql",
                "azdata_cell_guid": "b686d863-30cc-4e53-916c-e179e2c9d4c6"
            },
            "outputs": [],
            "execution_count": null
        },
        {
            "cell_type": "markdown",
            "source": [
                "### **Step 6 - Send test email and Check Status**"
            ],
            "metadata": {
                "language": "sql",
                "azdata_cell_guid": "f57850c4-7313-4f9e-af41-3cecd3397290"
            },
            "attachments": {}
        },
        {
            "cell_type": "markdown",
            "source": [
                "- **Send test email**"
            ],
            "metadata": {
                "language": "sql",
                "azdata_cell_guid": "55cab333-e437-451e-8f7e-57564e500e01"
            },
            "attachments": {}
        },
        {
            "cell_type": "code",
            "source": [
                "EXECUTE msdb.dbo.sp_send_dbmail \n",
                "@profile_name = 'MSSQLServer', \n",
                "@recipients = 'usuario@dominio.com',            -- ATENCAO: AJUSTAR\n",
                "@Subject = 'Testing DBMail', \n",
                "@Body = 'This message is a test for DBMail' \n",
                "GO"
            ],
            "metadata": {
                "language": "sql",
                "azdata_cell_guid": "5eccb99b-c735-4feb-b2c2-7959f959ab7c"
            },
            "outputs": [],
            "execution_count": null
        },
        {
            "cell_type": "markdown",
            "source": [
                "- **Check E-mails not send**"
            ],
            "metadata": {
                "language": "sql",
                "azdata_cell_guid": "3bab696c-0e94-491d-a1d8-739674653df8"
            },
            "attachments": {}
        },
        {
            "cell_type": "code",
            "source": [
                "Select \n",
                "* \n",
                "from \n",
                "msdb.dbo.sysmail_unsentitems \n",
                "Order by\n",
                "send_request_date desc"
            ],
            "metadata": {
                "language": "sql",
                "azdata_cell_guid": "4d01ce53-e591-42e8-aa21-a83e004ce8cb"
            },
            "outputs": [],
            "execution_count": null
        },
        {
            "cell_type": "markdown",
            "source": [
                "- **Check E-mails send**\n",
                "    - **Sent\\_Status**\n",
                "        - **0 - unsent**\n",
                "        - **1 - sent**\n",
                "        - **2 - failed (default)**\n",
                "        - **3 - retrying**"
            ],
            "metadata": {
                "language": "sql",
                "azdata_cell_guid": "13a04462-b8cd-4551-bfb4-8c1a32f97191"
            },
            "attachments": {}
        },
        {
            "cell_type": "code",
            "source": [
                "Select \n",
                "Top 5\n",
                "sent_status,\n",
                "sent_date,\n",
                "send_request_date,\n",
                "send_request_user\n",
                "from \n",
                "msdb.dbo.sysmail_mailitems\n",
                "Order by\n",
                "send_request_date desc"
            ],
            "metadata": {
                "language": "sql",
                "azdata_cell_guid": "6a997437-50eb-465e-85cb-a1990e94846d"
            },
            "outputs": [],
            "execution_count": null
        },
        {
            "cell_type": "markdown",
            "source": [
                "### **Step 7 - Set Database Mail Profile using mssql-conf or environment variable**\n",
                "\n",
                "- <span style=\"font-size:14px;\">You can use the mssql-conf utility or environment variables to register your DB Mail profile. In this case, let's call our profile default.</span>"
            ],
            "metadata": {
                "language": "sql",
                "azdata_cell_guid": "d611b565-5e02-43f8-9140-4f691c069145"
            },
            "attachments": {}
        },
        {
            "cell_type": "code",
            "source": [
                "# via mssql-conf\n",
                "sudo /opt/mssql/bin/mssql-conf set sqlagent.databasemailprofile MSSQLServer\n",
                "# via environment variable\n",
                "MSSQL_AGENT_EMAIL_PROFILE=MSSQLServer"
            ],
            "metadata": {
                "language": "sql",
                "azdata_cell_guid": "87c82ef6-0f92-4017-80d9-22b68d0834cd"
            },
            "outputs": [],
            "execution_count": null
        },
        {
            "cell_type": "markdown",
            "source": [
                "### **Step 8 - Set up an operator for SQLAgent job notifications**"
            ],
            "metadata": {
                "language": "sql",
                "azdata_cell_guid": "058063e1-e72c-4daa-8491-09b9bf8099f7"
            },
            "attachments": {}
        },
        {
            "cell_type": "code",
            "source": [
                "EXEC msdb.dbo.sp_add_operator \n",
                "@name=N'Alerta_BD',                                         -- ATENCAO AJUSTAR (Sugestao Documentacao: JobAdmins)\n",
                "@enabled=1, \n",
                "@email_address=N'usuario@dominio.com',                      -- ATENCAO: AJUSTAR\n",
                "@category_name=N'[Uncategorized]'                           -- ATENCAO AJUSTAR (Sugestao Documentacao: Uncategorized)\n",
                "GO"
            ],
            "metadata": {
                "language": "sql",
                "azdata_cell_guid": "944d2973-c257-4506-b330-98bca176db01"
            },
            "outputs": [],
            "execution_count": null
        },
        {
            "cell_type": "markdown",
            "source": [
                "### **Step 9 - Create a sample database**\n",
                "\n",
                "- This database is used for the daily backup job"
            ],
            "metadata": {
                "language": "sql",
                "azdata_cell_guid": "efcbcbb6-83c7-4d92-b4eb-7965bcb65e09"
            },
            "attachments": {}
        },
        {
            "cell_type": "code",
            "source": [
                "CREATE DATABASE SampleDB;"
            ],
            "metadata": {
                "language": "sql",
                "azdata_cell_guid": "4e74cd5f-b8c8-4802-9812-0141cae12aad"
            },
            "outputs": [],
            "execution_count": null
        },
        {
            "cell_type": "markdown",
            "source": [
                "### **Step 10 - Create a job named** **Daily SampleDB Backup**"
            ],
            "metadata": {
                "language": "sql",
                "azdata_cell_guid": "a6ddd372-10a0-4a5c-8794-9fab84400c13"
            },
            "attachments": {}
        },
        {
            "cell_type": "markdown",
            "source": [
                "- <span style=\"font-size: 14px;\"><b>Use sp_add_job to create a job named Daily SampleDB Backup</b></span>"
            ],
            "metadata": {
                "language": "sql",
                "azdata_cell_guid": "733c8377-28ff-40bb-9e48-7a1b9831819f"
            },
            "attachments": {}
        },
        {
            "cell_type": "code",
            "source": [
                "-- Adds a new job executed by the SQLServerAgent service\n",
                "-- called 'Daily SampleDB Backup'\n",
                "USE msdb ;\n",
                "GO\n",
                "EXEC dbo.sp_add_job\n",
                "   @job_name = N'Daily SampleDB Backup' ;\n",
                "GO"
            ],
            "metadata": {
                "language": "sql",
                "azdata_cell_guid": "2accc353-948d-4a9e-927c-cf6a61e3d788"
            },
            "outputs": [],
            "execution_count": null
        },
        {
            "cell_type": "markdown",
            "source": [
                "- <span style=\"font-size: 14px;\"><b>Call sp_add_jobstep to create a job step that creates a backup of the SampleDB database</b></span>"
            ],
            "metadata": {
                "language": "sql",
                "azdata_cell_guid": "7d07f81d-7106-4b65-999d-f656e94375af"
            },
            "attachments": {}
        },
        {
            "cell_type": "code",
            "source": [
                "-- Adds a step (operation) to the job\n",
                "EXEC sp_add_jobstep\n",
                "   @job_name = N'Daily SampleDB Backup',\n",
                "   @step_name = N'Backup database',\n",
                "   @subsystem = N'TSQL',\n",
                "   @command = N'BACKUP DATABASE SampleDB TO DISK = \\\n",
                "      N''/arquivos3/mssql/backup/completo/SampleDB.bak'' WITH NOFORMAT, NOINIT, \\\n",
                "      NAME = ''SampleDB-full'', SKIP, NOREWIND, NOUNLOAD, STATS = 10',\n",
                "   @retry_attempts = 5,\n",
                "   @retry_interval = 5 ;\n",
                "GO"
            ],
            "metadata": {
                "language": "sql",
                "azdata_cell_guid": "f5275da1-d805-4119-aaf1-3c485b0a190d"
            },
            "outputs": [],
            "execution_count": null
        },
        {
            "cell_type": "markdown",
            "source": [
                "- <span style=\"font-size: 14px;\"><b>Then create a daily schedule for your job with sp_add_schedule</b></span>"
            ],
            "metadata": {
                "language": "sql",
                "azdata_cell_guid": "39166cf3-1bc7-4d85-a464-a4d10237bb6b"
            },
            "attachments": {}
        },
        {
            "cell_type": "code",
            "source": [
                "-- Creates a schedule called 'Daily'\n",
                "EXEC dbo.sp_add_schedule\n",
                "   @schedule_name = N'Daily SampleDB',\n",
                "   @freq_type = 4,\n",
                "   @freq_interval = 1,\n",
                "   @active_start_time = 233000 ;\n",
                "USE msdb ;\n",
                "GO"
            ],
            "metadata": {
                "language": "sql",
                "azdata_cell_guid": "bead01b8-2ab7-4870-ad03-6f6c5abac62c"
            },
            "outputs": [],
            "execution_count": null
        },
        {
            "cell_type": "markdown",
            "source": [
                "- <span style=\"font-size: 14px;\"><b>Attach the job schedule to the job with sp_attach_schedule.</b></span>"
            ],
            "metadata": {
                "language": "sql",
                "azdata_cell_guid": "764eac33-6ef4-4d16-bfe8-c0cb36c680ba"
            },
            "attachments": {}
        },
        {
            "cell_type": "code",
            "source": [
                "-- Sets the 'Daily' schedule to the 'Daily SampleDB Backup' Job\n",
                "EXEC sp_attach_schedule\n",
                "   @job_name = N'Daily SampleDB Backup',\n",
                "   @schedule_name = N'Daily SampleDB';\n",
                "GO"
            ],
            "metadata": {
                "language": "sql",
                "azdata_cell_guid": "2cce24e7-9a05-40cc-be05-fd99040dbb18"
            },
            "outputs": [],
            "execution_count": null
        },
        {
            "cell_type": "markdown",
            "source": [
                "- <span style=\"font-size: 14px;\"><b>Use sp_add_jobserver to assign the job to a target server. In this example, the target is the local server</b></span>"
            ],
            "metadata": {
                "language": "sql",
                "azdata_cell_guid": "e89905f9-38d7-4618-a54f-7daafca7fcc5"
            },
            "attachments": {}
        },
        {
            "cell_type": "code",
            "source": [
                "EXEC dbo.sp_add_jobserver\n",
                "   @job_name = N'Daily SampleDB Backup',\n",
                "   @server_name = N'(LOCAL)';\n",
                "GO"
            ],
            "metadata": {
                "language": "sql",
                "azdata_cell_guid": "4e8bba9b-4594-4d86-a8ad-b1dcc41a98c1"
            },
            "outputs": [],
            "execution_count": null
        },
        {
            "cell_type": "markdown",
            "source": [
                "- <span style=\"font-size: 14px;\"><b>Start the job with sp_start_job</b></span>"
            ],
            "metadata": {
                "language": "sql",
                "azdata_cell_guid": "33598c2d-7e32-4a3b-9ac9-d77e4a61ee1e"
            },
            "attachments": {}
        },
        {
            "cell_type": "code",
            "source": [
                "EXEC dbo.sp_start_job N' Daily SampleDB Backup' ;\n",
                "GO"
            ],
            "metadata": {
                "language": "sql",
                "azdata_cell_guid": "8ad04793-cb94-4ffb-98be-add86b821767"
            },
            "outputs": [],
            "execution_count": null
        },
        {
            "cell_type": "markdown",
            "source": [
                "### **Setp 11 - Send email when '****Daily SampleDB Backup****' succeeds**"
            ],
            "metadata": {
                "language": "sql",
                "azdata_cell_guid": "7a3eda03-b201-40ff-8f85-6de7efce2190"
            },
            "attachments": {}
        },
        {
            "cell_type": "code",
            "source": [
                "EXEC msdb.dbo.sp_update_job \n",
                "@job_name='Daily SampleDB Backup', \n",
                "@notify_level_email=3, \n",
                "@notify_email_operator_name=N'Alerta_BD'            -- ATENCAO AJUSTAR (Sugestao Documentacao: JobAdmins)\n",
                "GO"
            ],
            "metadata": {
                "language": "sql",
                "azdata_cell_guid": "964a811c-fd9c-45d5-9d37-27b36f4d5792"
            },
            "outputs": [],
            "execution_count": null
        },
        {
            "cell_type": "markdown",
            "source": [
                "### **Step 12 - After tests Delete Database & Job Test**"
            ],
            "metadata": {
                "language": "sql",
                "azdata_cell_guid": "9daec6f1-0e55-4509-bd0e-256e1cf0f635"
            },
            "attachments": {}
        },
        {
            "cell_type": "code",
            "source": [
                "USE [msdb]\n",
                "GO\n",
                "\n",
                "EXEC msdb.dbo.sp_delete_job @job_name = N'Daily SampleDB Backup'\n",
                "GO"
            ],
            "metadata": {
                "language": "sql",
                "azdata_cell_guid": "17d413e1-d620-4a95-b0b5-2ed2fc97f991"
            },
            "outputs": [],
            "execution_count": null
        }
    ]
}