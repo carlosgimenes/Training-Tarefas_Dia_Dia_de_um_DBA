{
    "metadata": {
        "kernelspec": {
            "name": "SQL",
            "display_name": "SQL",
            "language": "sql"
        },
        "language_info": {
            "name": "sql",
            "version": ""
        }
    },
    "nbformat_minor": 2,
    "nbformat": 4,
    "cells": [
        {
            "cell_type": "markdown",
            "source": [
                "# **SQL Database Coleta Log Contadores**\n",
                "\n",
                "# \n",
                "\n",
                "- Carlos Eduardo Gimenes\n",
                "- Last Modified: Junho, 2023\n",
                "\n",
                "> **Copyright (C) 2023 Carlos Eduardo Gimenes**  \n",
                "> All rights reserved.  \n",
                "> You may alter this code for your own _non-commercial_ purposes.  \n",
                "> You may republish altered code as long as you include this copyright and give due credit.\n",
                "> \n",
                "> THIS CODE AND INFORMATION ARE PROVIDED \"AS IS\" WITHOUT WARRANTY OF ANY KIND, EITHER EXPRESSED OR IMPLIED, INCLUDING BUT NOT LIMITED TO THE IMPLIED WARRANTIES OF MERCHANTABILITY AND/OR FITNESS FOR A PARTICULAR PURPOSE."
            ],
            "metadata": {
                "azdata_cell_guid": "43bb81b0-de55-460f-93dd-222b3f00b0cc"
            },
            "attachments": {}
        },
        {
            "cell_type": "markdown",
            "source": [
                "# **Legenda**\n",
                "\n",
                "- **BatchRequests - ID 1**: Transações por segundo no SQL Server\n",
                "- **User Connection** **\\- ID 2**: Quantidade de conexões no Banco de Dados\n",
                "- **CPU** **\\- ID 3**: Consumo de CPU do Servidor\n",
                "- **Page Life Expectancy** **\\- ID 4**: Expectativa de vida em segundos de uma página na memória do SQL Server"
            ],
            "metadata": {
                "azdata_cell_guid": "4d69a1d0-f7f8-4f20-9c6c-5f6b14725c45"
            },
            "attachments": {}
        },
        {
            "cell_type": "markdown",
            "source": [
                "# Create Database Traces"
            ],
            "metadata": {
                "azdata_cell_guid": "dfaa14ab-c7ed-4317-8c93-60fc10a42158"
            },
            "attachments": {}
        },
        {
            "cell_type": "code",
            "source": [
                "/*\r\n",
                "-------------------------------------------------------------------------------------------------------------------------\r\n",
                "\tTitle\t\t:\tCreate Database Traces\r\n",
                "-------------------------------------------------------------------------------------------------------------------------\r\n",
                "\tAuthor\t\t:\tGimenes\r\n",
                "\tDate\t\t:\t05/06/2023\r\n",
                "\tRequester\t:\tGimenes\r\n",
                "\tPurpose\t\t:\tDatabase Coleta Log Contadores\r\n",
                "\tProgram\t\t:\tNot applicable\r\n",
                "    Credito     :   http://www.fabriciolima.net/\r\n",
                "\t\t\t\r\n",
                "-------------------------------------------------------------------------------------------------------------------------\r\n",
                "*/\r\n",
                "-- >>> Inicio da Query\r\n",
                "IF NOT EXISTS (\r\n",
                "        SELECT name\r\n",
                "        FROM sys.databases\r\n",
                "        WHERE name = 'Traces'\r\n",
                "        )\r\n",
                "    CREATE DATABASE [Traces] CONTAINMENT = NONE ON PRIMARY (\r\n",
                "        NAME = N'Traces_Data'\r\n",
                "        , FILENAME = N'/mssql/data/Traces_Data.mdf'\r\n",
                "        , SIZE = 1024000 KB\r\n",
                "        , MAXSIZE = 1536000 KB\r\n",
                "        , FILEGROWTH = 30 %\r\n",
                "        ) LOG ON (\r\n",
                "        NAME = N'Traces_log'\r\n",
                "        , FILENAME = N'/mssql/data/Traces_log.ldf'\r\n",
                "        , SIZE = 256000 KB\r\n",
                "        , MAXSIZE = 512000 KB\r\n",
                "        , FILEGROWTH = 30 %\r\n",
                "        )\r\n",
                "GO\r\n",
                "\r\n",
                "ALTER DATABASE [Traces]\r\n",
                "\r\n",
                "SET COMPATIBILITY_LEVEL = 150\r\n",
                "GO\r\n",
                "\r\n",
                "ALTER DATABASE [Traces]\r\n",
                "\r\n",
                "SET ANSI_NULL_DEFAULT OFF\r\n",
                "GO\r\n",
                "\r\n",
                "ALTER DATABASE [Traces]\r\n",
                "\r\n",
                "SET ANSI_NULLS OFF\r\n",
                "GO\r\n",
                "\r\n",
                "ALTER DATABASE [Traces]\r\n",
                "\r\n",
                "SET ANSI_PADDING OFF\r\n",
                "GO\r\n",
                "\r\n",
                "ALTER DATABASE [Traces]\r\n",
                "\r\n",
                "SET ANSI_WARNINGS OFF\r\n",
                "GO\r\n",
                "\r\n",
                "ALTER DATABASE [Traces]\r\n",
                "\r\n",
                "SET ARITHABORT OFF\r\n",
                "GO\r\n",
                "\r\n",
                "ALTER DATABASE [Traces]\r\n",
                "\r\n",
                "SET AUTO_CLOSE OFF\r\n",
                "GO\r\n",
                "\r\n",
                "ALTER DATABASE [Traces]\r\n",
                "\r\n",
                "SET AUTO_SHRINK OFF\r\n",
                "GO\r\n",
                "\r\n",
                "ALTER DATABASE [Traces]\r\n",
                "\r\n",
                "SET AUTO_CREATE_STATISTICS ON (INCREMENTAL = ON)\r\n",
                "GO\r\n",
                "\r\n",
                "ALTER DATABASE [Traces]\r\n",
                "\r\n",
                "SET AUTO_UPDATE_STATISTICS ON\r\n",
                "GO\r\n",
                "\r\n",
                "ALTER DATABASE [Traces]\r\n",
                "\r\n",
                "SET CURSOR_CLOSE_ON_COMMIT OFF\r\n",
                "GO\r\n",
                "\r\n",
                "ALTER DATABASE [Traces]\r\n",
                "\r\n",
                "SET CURSOR_DEFAULT GLOBAL\r\n",
                "GO\r\n",
                "\r\n",
                "ALTER DATABASE [Traces]\r\n",
                "\r\n",
                "SET CONCAT_NULL_YIELDS_NULL OFF\r\n",
                "GO\r\n",
                "\r\n",
                "ALTER DATABASE [Traces]\r\n",
                "\r\n",
                "SET NUMERIC_ROUNDABORT OFF\r\n",
                "GO\r\n",
                "\r\n",
                "ALTER DATABASE [Traces]\r\n",
                "\r\n",
                "SET QUOTED_IDENTIFIER OFF\r\n",
                "GO\r\n",
                "\r\n",
                "ALTER DATABASE [Traces]\r\n",
                "\r\n",
                "SET RECURSIVE_TRIGGERS OFF\r\n",
                "GO\r\n",
                "\r\n",
                "ALTER DATABASE [Traces]\r\n",
                "\r\n",
                "SET DISABLE_BROKER\r\n",
                "GO\r\n",
                "\r\n",
                "ALTER DATABASE [Traces]\r\n",
                "\r\n",
                "SET AUTO_UPDATE_STATISTICS_ASYNC ON\r\n",
                "GO\r\n",
                "\r\n",
                "ALTER DATABASE [Traces]\r\n",
                "\r\n",
                "SET DATE_CORRELATION_OPTIMIZATION OFF\r\n",
                "GO\r\n",
                "\r\n",
                "ALTER DATABASE [Traces]\r\n",
                "\r\n",
                "SET PARAMETERIZATION SIMPLE\r\n",
                "GO\r\n",
                "\r\n",
                "ALTER DATABASE [Traces]\r\n",
                "\r\n",
                "SET READ_COMMITTED_SNAPSHOT OFF\r\n",
                "GO\r\n",
                "\r\n",
                "ALTER DATABASE [Traces]\r\n",
                "\r\n",
                "SET READ_WRITE\r\n",
                "GO\r\n",
                "\r\n",
                "ALTER DATABASE [Traces]\r\n",
                "\r\n",
                "SET RECOVERY FULL\r\n",
                "GO\r\n",
                "\r\n",
                "ALTER DATABASE [Traces]\r\n",
                "\r\n",
                "SET MULTI_USER\r\n",
                "GO\r\n",
                "\r\n",
                "ALTER DATABASE [Traces]\r\n",
                "\r\n",
                "SET PAGE_VERIFY CHECKSUM\r\n",
                "GO\r\n",
                "\r\n",
                "ALTER DATABASE [Traces]\r\n",
                "\r\n",
                "SET TARGET_RECOVERY_TIME = 60 SECONDS\r\n",
                "GO\r\n",
                "\r\n",
                "ALTER DATABASE [Traces]\r\n",
                "\r\n",
                "SET DELAYED_DURABILITY = DISABLED\r\n",
                "GO\r\n",
                "\r\n",
                "USE [Traces]\r\n",
                "GO\r\n",
                "\r\n",
                "ALTER DATABASE SCOPED CONFIGURATION\r\n",
                "\r\n",
                "SET LEGACY_CARDINALITY_ESTIMATION = OFF;\r\n",
                "GO\r\n",
                "\r\n",
                "ALTER DATABASE SCOPED CONFIGURATION\r\n",
                "FOR SECONDARY\r\n",
                "\r\n",
                "SET LEGACY_CARDINALITY_ESTIMATION = PRIMARY;\r\n",
                "GO\r\n",
                "\r\n",
                "ALTER DATABASE SCOPED CONFIGURATION\r\n",
                "\r\n",
                "SET MAXDOP = 0;\r\n",
                "GO\r\n",
                "\r\n",
                "ALTER DATABASE SCOPED CONFIGURATION\r\n",
                "FOR SECONDARY\r\n",
                "\r\n",
                "SET MAXDOP = PRIMARY;\r\n",
                "GO\r\n",
                "\r\n",
                "ALTER DATABASE SCOPED CONFIGURATION\r\n",
                "\r\n",
                "SET PARAMETER_SNIFFING = ON;\r\n",
                "GO\r\n",
                "\r\n",
                "ALTER DATABASE SCOPED CONFIGURATION\r\n",
                "FOR SECONDARY\r\n",
                "\r\n",
                "SET PARAMETER_SNIFFING = PRIMARY;\r\n",
                "GO\r\n",
                "\r\n",
                "ALTER DATABASE SCOPED CONFIGURATION\r\n",
                "\r\n",
                "SET QUERY_OPTIMIZER_HOTFIXES = OFF;\r\n",
                "GO\r\n",
                "\r\n",
                "ALTER DATABASE SCOPED CONFIGURATION\r\n",
                "FOR SECONDARY\r\n",
                "\r\n",
                "SET QUERY_OPTIMIZER_HOTFIXES = PRIMARY;\r\n",
                "GO\r\n",
                "\r\n",
                "USE [Traces]\r\n",
                "GO\r\n",
                "\r\n",
                "IF NOT EXISTS (\r\n",
                "        SELECT name\r\n",
                "        FROM sys.filegroups\r\n",
                "        WHERE is_default = 1\r\n",
                "            AND name = N'PRIMARY'\r\n",
                "        )\r\n",
                "    ALTER DATABASE [Traces] MODIFY FILEGROUP [PRIMARY] DEFAULT\r\n",
                "GO\r\n",
                "\r\n",
                "-- <<< Fim da Query\r\n",
                ""
            ],
            "metadata": {
                "azdata_cell_guid": "489f232c-ce56-4dc1-ba1b-ea554379efc4",
                "language": "sql"
            },
            "outputs": [],
            "execution_count": null
        },
        {
            "cell_type": "markdown",
            "source": [
                "# Create table to store Log Contadores"
            ],
            "metadata": {
                "language": "sql",
                "azdata_cell_guid": "5fd5e52f-9684-4c15-8505-b3caeabd4e29"
            },
            "attachments": {}
        },
        {
            "cell_type": "code",
            "source": [
                "/*\r\n",
                "-------------------------------------------------------------------------------------------------------------------------\r\n",
                "\tTitle\t\t:\tCreate table to store Log Contadores\r\n",
                "-------------------------------------------------------------------------------------------------------------------------\r\n",
                "\tAuthor\t\t:\tGimenes\r\n",
                "\tDate\t\t:\t22/06/2023\r\n",
                "\tRequester\t:\tGimenes\r\n",
                "\tPurpose\t\t:\tDatabase Coleta Log Contadores\r\n",
                "\tProgram\t\t:\tNot applicable\r\n",
                "    Credito     :   http://www.fabriciolima.net/\r\n",
                "\t\t\t\r\n",
                "-------------------------------------------------------------------------------------------------------------------------\r\n",
                "*/\r\n",
                "-- >>> Inicio da Query\r\n",
                "\r\n",
                "USE Traces\r\n",
                "GO\r\n",
                "\r\n",
                "IF OBJECT_ID('Contador') IS NOT NULL\r\n",
                "    DROP TABLE Contador\r\n",
                "\r\n",
                "IF OBJECT_ID('Registro_Contador') IS NOT NULL\r\n",
                "    DROP TABLE Registro_Contador\r\n",
                "\r\n",
                "CREATE TABLE Contador (\r\n",
                "    Id_Contador INT identity\r\n",
                "    , Nm_Contador VARCHAR(50)\r\n",
                "    )\r\n",
                "\r\n",
                "INSERT INTO Contador (Nm_Contador)\r\n",
                "SELECT 'BatchRequests'\r\n",
                "\r\n",
                "INSERT INTO Contador (Nm_Contador)\r\n",
                "SELECT 'User_Connection'\r\n",
                "\r\n",
                "INSERT INTO Contador (Nm_Contador)\r\n",
                "SELECT 'CPU'\r\n",
                "\r\n",
                "INSERT INTO Contador (Nm_Contador)\r\n",
                "SELECT 'Page Life Expectancy'\r\n",
                "\r\n",
                "SELECT *\r\n",
                "FROM Contador\r\n",
                "\r\n",
                "CREATE TABLE [dbo].[Registro_Contador] (\r\n",
                "    [Id_Registro_Contador] [int] IDENTITY(1, 1) NOT NULL\r\n",
                "    , [Dt_Log] [datetime] NULL\r\n",
                "    , [Id_Contador] [int] NULL\r\n",
                "    , [Valor] [int] NULL\r\n",
                "    ) ON [PRIMARY]\r\n",
                "\r\n",
                "-- <<< Fim da Query\r\n",
                ""
            ],
            "metadata": {
                "language": "sql",
                "azdata_cell_guid": "d1b7d2cc-9854-4b38-983d-6204ea36b25b"
            },
            "outputs": [
                {
                    "output_type": "display_data",
                    "data": {
                        "text/html": "Commands completed successfully."
                    },
                    "metadata": {}
                },
                {
                    "output_type": "display_data",
                    "data": {
                        "text/html": "(1 row affected)"
                    },
                    "metadata": {}
                },
                {
                    "output_type": "display_data",
                    "data": {
                        "text/html": "(1 row affected)"
                    },
                    "metadata": {}
                },
                {
                    "output_type": "display_data",
                    "data": {
                        "text/html": "(1 row affected)"
                    },
                    "metadata": {}
                },
                {
                    "output_type": "display_data",
                    "data": {
                        "text/html": "(1 row affected)"
                    },
                    "metadata": {}
                },
                {
                    "output_type": "display_data",
                    "data": {
                        "text/html": "(4 rows affected)"
                    },
                    "metadata": {}
                },
                {
                    "output_type": "display_data",
                    "data": {
                        "text/html": "Total execution time: 00:00:00.342"
                    },
                    "metadata": {}
                },
                {
                    "output_type": "execute_result",
                    "metadata": {},
                    "execution_count": 4,
                    "data": {
                        "application/vnd.dataresource+json": {
                            "schema": {
                                "fields": [
                                    {
                                        "name": "Id_Contador"
                                    },
                                    {
                                        "name": "Nm_Contador"
                                    }
                                ]
                            },
                            "data": [
                                {
                                    "Id_Contador": "1",
                                    "Nm_Contador": "BatchRequests"
                                },
                                {
                                    "Id_Contador": "2",
                                    "Nm_Contador": "User_Connection"
                                },
                                {
                                    "Id_Contador": "3",
                                    "Nm_Contador": "CPU"
                                },
                                {
                                    "Id_Contador": "4",
                                    "Nm_Contador": "Page Life Expectancy"
                                }
                            ]
                        },
                        "text/html": [
                            "<table>",
                            "<tr><th>Id_Contador</th><th>Nm_Contador</th></tr>",
                            "<tr><td>1</td><td>BatchRequests</td></tr>",
                            "<tr><td>2</td><td>User_Connection</td></tr>",
                            "<tr><td>3</td><td>CPU</td></tr>",
                            "<tr><td>4</td><td>Page Life Expectancy</td></tr>",
                            "</table>"
                        ]
                    }
                }
            ],
            "execution_count": 4
        },
        {
            "cell_type": "markdown",
            "source": [
                "# Create Procedure to capture data\n",
                "\n",
                "Make sure you are connected a Traces database"
            ],
            "metadata": {
                "language": "sql",
                "azdata_cell_guid": "4d94cc14-cd79-404b-9d25-045edf63ce92"
            },
            "attachments": {}
        },
        {
            "cell_type": "code",
            "source": [
                "/*\r\n",
                "-------------------------------------------------------------------------------------------------------------------------\r\n",
                "\tTitle\t\t:\tCreate Procedure to capture data\r\n",
                "-------------------------------------------------------------------------------------------------------------------------\r\n",
                "\tAuthor\t\t:\tGimenes\r\n",
                "\tDate\t\t:\t22/06/2023\r\n",
                "\tRequester\t:\tGimenes\r\n",
                "\tPurpose\t\t:\tDatabase Coleta Log Contadores\r\n",
                "\tProgram\t\t:\tNot applicable\r\n",
                "    Credito     :   http://www.fabriciolima.net/\r\n",
                "\t\t\t\r\n",
                "-------------------------------------------------------------------------------------------------------------------------\r\n",
                "*/\r\n",
                "-- >>> Inicio da Query\r\n",
                "\r\n",
                "USE Traces\r\n",
                "GO\r\n",
                "\r\n",
                "IF OBJECT_ID('stpCarga_ContadoresSQL') IS NOT NULL\r\n",
                "    DROP PROCEDURE stpCarga_ContadoresSQL\r\n",
                "GO\r\n",
                "\r\n",
                "CREATE PROCEDURE stpCarga_ContadoresSQL\r\n",
                "AS\r\n",
                "BEGIN\r\n",
                "    DECLARE @BatchRequests INT\r\n",
                "        , @User_Connection INT\r\n",
                "        , @CPU INT\r\n",
                "        , @PLE INT\r\n",
                "    DECLARE @RequestsPerSecondSample1 BIGINT\r\n",
                "    DECLARE @RequestsPerSecondSample2 BIGINT\r\n",
                "\r\n",
                "    SELECT @RequestsPerSecondSample1 = cntr_value\r\n",
                "    FROM sys.dm_os_performance_counters\r\n",
                "    WHERE counter_name = 'Batch Requests/sec'\r\n",
                "\r\n",
                "    WAITFOR DELAY '00:00:05'\r\n",
                "\r\n",
                "    SELECT @RequestsPerSecondSample2 = cntr_value\r\n",
                "    FROM sys.dm_os_performance_counters\r\n",
                "    WHERE counter_name = 'Batch Requests/sec'\r\n",
                "\r\n",
                "    SELECT @BatchRequests = (@RequestsPerSecondSample2 - @RequestsPerSecondSample1) / 5\r\n",
                "\r\n",
                "    SELECT @User_Connection = cntr_Value\r\n",
                "    FROM sys.dm_os_performance_counters\r\n",
                "    WHERE counter_name = 'User Connections'\r\n",
                "\r\n",
                "    SELECT TOP (1) @CPU = (SQLProcessUtilization + (100 - SystemIdle - SQLProcessUtilization))\r\n",
                "    FROM (\r\n",
                "        SELECT record.value('(./Record/@id)[1]', 'int') AS record_id\r\n",
                "            , record.value('(./Record/SchedulerMonitorEvent/SystemHealth/SystemIdle)[1]', 'int') AS [SystemIdle]\r\n",
                "            , record.value('(./Record/SchedulerMonitorEvent/SystemHealth/ProcessUtilization)[1]', 'int') AS [SQLProcessUtilization]\r\n",
                "            , [timestamp]\r\n",
                "        FROM (\r\n",
                "            SELECT [timestamp]\r\n",
                "                , CONVERT(XML, record) AS [record]\r\n",
                "            FROM sys.dm_os_ring_buffers\r\n",
                "            WHERE ring_buffer_type = N'RING_BUFFER_SCHEDULER_MONITOR'\r\n",
                "                AND record LIKE '%<SystemHealth>%'\r\n",
                "            ) AS x\r\n",
                "        ) AS y\r\n",
                "\r\n",
                "    SELECT @PLE = cntr_value\r\n",
                "    FROM sys.dm_os_performance_counters\r\n",
                "    WHERE counter_name = 'Page life expectancy'\r\n",
                "        AND object_name LIKE '%Buffer Manager%'\r\n",
                "\r\n",
                "    INSERT INTO Registro_Contador (\r\n",
                "        Dt_Log\r\n",
                "        , Id_Contador\r\n",
                "        , Valor\r\n",
                "        )\r\n",
                "    SELECT GETDATE()\r\n",
                "        , 1\r\n",
                "        , @BatchRequests\r\n",
                "\r\n",
                "    INSERT INTO Registro_Contador (\r\n",
                "        Dt_Log\r\n",
                "        , Id_Contador\r\n",
                "        , Valor\r\n",
                "        )\r\n",
                "    SELECT GETDATE()\r\n",
                "        , 2\r\n",
                "        , @User_Connection\r\n",
                "\r\n",
                "    INSERT INTO Registro_Contador (\r\n",
                "        Dt_Log\r\n",
                "        , Id_Contador\r\n",
                "        , Valor\r\n",
                "        )\r\n",
                "    SELECT GETDATE()\r\n",
                "        , 3\r\n",
                "        , @CPU\r\n",
                "\r\n",
                "    INSERT INTO Registro_Contador (\r\n",
                "        Dt_Log\r\n",
                "        , Id_Contador\r\n",
                "        , Valor\r\n",
                "        )\r\n",
                "    SELECT GETDATE()\r\n",
                "        , 4\r\n",
                "        , @PLE\r\n",
                "END\r\n",
                "\r\n",
                "-- <<< Fim da Query"
            ],
            "metadata": {
                "language": "sql",
                "azdata_cell_guid": "73b4e5f8-3bdb-4efd-81a3-ae2943a6b63e"
            },
            "outputs": [
                {
                    "output_type": "display_data",
                    "data": {
                        "text/html": "Commands completed successfully."
                    },
                    "metadata": {}
                },
                {
                    "output_type": "display_data",
                    "data": {
                        "text/html": "Commands completed successfully."
                    },
                    "metadata": {}
                },
                {
                    "output_type": "display_data",
                    "data": {
                        "text/html": "Commands completed successfully."
                    },
                    "metadata": {}
                },
                {
                    "output_type": "display_data",
                    "data": {
                        "text/html": "Total execution time: 00:00:00.070"
                    },
                    "metadata": {}
                }
            ],
            "execution_count": 5
        },
        {
            "cell_type": "markdown",
            "source": [
                "# Create Job to process Coleta Log Contadores\n",
                "\n",
                "# \n",
                "\n",
                "Make sure you are connected a msdb system database"
            ],
            "metadata": {
                "language": "sql",
                "azdata_cell_guid": "d24d1e5c-c98f-49a1-bf19-8fe1753edd3e"
            },
            "attachments": {}
        },
        {
            "cell_type": "code",
            "source": [
                "/*\r\n",
                "-------------------------------------------------------------------------------------------------------------------------\r\n",
                "\tTitle\t\t:\tCreation of Job to process Coleta Log Contadores\r\n",
                "-------------------------------------------------------------------------------------------------------------------------\r\n",
                "\tAuthor\t\t:\tGimenes\r\n",
                "\tDate\t\t:\t22/06/2023\r\n",
                "\tRequester\t:\tGimenes\r\n",
                "\tPurpose\t\t:\tDatabase Coleta Log Contadores\r\n",
                "\tProgram\t\t:\tNot applicable\r\n",
                "    Credito     :   Nenhum\r\n",
                "\t\t\t\r\n",
                "-------------------------------------------------------------------------------------------------------------------------\r\n",
                "*/\r\n",
                "-- >>> Inicio da Query\r\n",
                "\r\n",
                "USE [msdb]\r\n",
                "GO\r\n",
                "\r\n",
                "/****** Object:  Job [DBA - Coleta Log Contadores]    Script Date: 22/06/2023 11:37:02 ******/\r\n",
                "BEGIN TRANSACTION\r\n",
                "DECLARE @ReturnCode INT\r\n",
                "SELECT @ReturnCode = 0\r\n",
                "/****** Object:  JobCategory [Database Maintenance]    Script Date: 22/06/2023 11:37:03 ******/\r\n",
                "IF NOT EXISTS (SELECT name FROM msdb.dbo.syscategories WHERE name=N'Database Maintenance' AND category_class=1)\r\n",
                "BEGIN\r\n",
                "EXEC @ReturnCode = msdb.dbo.sp_add_category @class=N'JOB', @type=N'LOCAL', @name=N'Database Maintenance'\r\n",
                "IF (@@ERROR <> 0 OR @ReturnCode <> 0) GOTO QuitWithRollback\r\n",
                "\r\n",
                "END\r\n",
                "\r\n",
                "DECLARE @jobId BINARY(16)\r\n",
                "EXEC @ReturnCode =  msdb.dbo.sp_add_job @job_name=N'DBA - Coleta Log Contadores', \r\n",
                "\t\t@enabled=1, \r\n",
                "\t\t@notify_level_eventlog=0, \r\n",
                "\t\t@notify_level_email=0, \r\n",
                "\t\t@notify_level_netsend=0, \r\n",
                "\t\t@notify_level_page=0, \r\n",
                "\t\t@delete_level=0, \r\n",
                "\t\t@category_name=N'Database Maintenance', \r\n",
                "\t\t@owner_login_name=N'carlos.gimenes', @job_id = @jobId OUTPUT\r\n",
                "IF (@@ERROR <> 0 OR @ReturnCode <> 0) GOTO QuitWithRollback\r\n",
                "/****** Object:  Step [Executa SP]    Script Date: 22/06/2023 11:37:03 ******/\r\n",
                "EXEC @ReturnCode = msdb.dbo.sp_add_jobstep @job_id=@jobId, @step_name=N'Executa SP', \r\n",
                "\t\t@step_id=1, \r\n",
                "\t\t@cmdexec_success_code=0, \r\n",
                "\t\t@on_success_action=1, \r\n",
                "\t\t@on_success_step_id=0, \r\n",
                "\t\t@on_fail_action=2, \r\n",
                "\t\t@on_fail_step_id=0, \r\n",
                "\t\t@retry_attempts=0, \r\n",
                "\t\t@retry_interval=0, \r\n",
                "\t\t@os_run_priority=0, @subsystem=N'TSQL', \r\n",
                "\t\t@command=N'EXEC dbo.stpCarga_ContadoresSQL', \r\n",
                "\t\t@database_name=N'Traces', \r\n",
                "\t\t@flags=8\r\n",
                "IF (@@ERROR <> 0 OR @ReturnCode <> 0) GOTO QuitWithRollback\r\n",
                "EXEC @ReturnCode = msdb.dbo.sp_update_job @job_id = @jobId, @start_step_id = 1\r\n",
                "IF (@@ERROR <> 0 OR @ReturnCode <> 0) GOTO QuitWithRollback\r\n",
                "EXEC @ReturnCode = msdb.dbo.sp_add_jobschedule @job_id=@jobId, @name=N'A cada 1 minuto', \r\n",
                "\t\t@enabled=1, \r\n",
                "\t\t@freq_type=4, \r\n",
                "\t\t@freq_interval=1, \r\n",
                "\t\t@freq_subday_type=4, \r\n",
                "\t\t@freq_subday_interval=1, \r\n",
                "\t\t@freq_relative_interval=0, \r\n",
                "\t\t@freq_recurrence_factor=0, \r\n",
                "\t\t@active_start_date=20190218, \r\n",
                "\t\t@active_end_date=99991231, \r\n",
                "\t\t@active_start_time=112, \r\n",
                "\t\t@active_end_time=235959, \r\n",
                "\t\t@schedule_uid=N'41234bdc-f187-40e7-8998-212cc6a636e6'\r\n",
                "IF (@@ERROR <> 0 OR @ReturnCode <> 0) GOTO QuitWithRollback\r\n",
                "EXEC @ReturnCode = msdb.dbo.sp_add_jobserver @job_id = @jobId, @server_name = N'(local)'\r\n",
                "IF (@@ERROR <> 0 OR @ReturnCode <> 0) GOTO QuitWithRollback\r\n",
                "COMMIT TRANSACTION\r\n",
                "GOTO EndSave\r\n",
                "QuitWithRollback:\r\n",
                "    IF (@@TRANCOUNT > 0) ROLLBACK TRANSACTION\r\n",
                "EndSave:\r\n",
                "GO\r\n",
                "\r\n",
                "\r\n",
                "\r\n",
                "\r\n",
                "-- <<< Fim da Query\r\n",
                ""
            ],
            "metadata": {
                "language": "sql",
                "azdata_cell_guid": "d23fc288-a930-47f4-8487-69b0fe8f5b6b"
            },
            "outputs": [
                {
                    "output_type": "display_data",
                    "data": {
                        "text/html": "Commands completed successfully."
                    },
                    "metadata": {}
                },
                {
                    "output_type": "display_data",
                    "data": {
                        "text/html": "Commands completed successfully."
                    },
                    "metadata": {}
                },
                {
                    "output_type": "display_data",
                    "data": {
                        "text/html": "Commands completed successfully."
                    },
                    "metadata": {}
                },
                {
                    "output_type": "display_data",
                    "data": {
                        "text/html": "Total execution time: 00:00:00.626"
                    },
                    "metadata": {}
                }
            ],
            "execution_count": 6
        },
        {
            "cell_type": "markdown",
            "source": [
                "* * *\n",
                "\n",
                "# **Fim de arquivo**"
            ],
            "metadata": {
                "language": "sql",
                "azdata_cell_guid": "3a9e9c9f-5f36-4f8e-8dcb-9ec6e6da40ab"
            },
            "attachments": {}
        }
    ]
}