{
    "metadata": {
        "kernelspec": {
            "name": "SQL",
            "display_name": "SQL",
            "language": "sql"
        },
        "language_info": {
            "name": "sql",
            "version": ""
        }
    },
    "nbformat_minor": 2,
    "nbformat": 4,
    "cells": [
        {
            "cell_type": "markdown",
            "source": [
                "# **SQL Database Index fragmentation**\n",
                "\n",
                "- Carlos Eduardo Gimenes\n",
                "- Last Modified: December, 2023\n",
                "\n",
                "> **Copyright (C) 2023 Carlos Eduardo Gimenes**  \n",
                "> All rights reserved.  \n",
                "> You may alter this code for your own _non-commercial_ purposes.  \n",
                "> You may republish altered code as long as you include this copyright and give due credit.\n",
                "> \n",
                "> THIS CODE AND INFORMATION ARE PROVIDED \"AS IS\" WITHOUT WARRANTY OF ANY KIND, EITHER EXPRESSED OR IMPLIED, INCLUDING BUT NOT LIMITED TO THE IMPLIED WARRANTIES OF MERCHANTABILITY AND/OR FITNESS FOR A PARTICULAR PURPOSE."
            ],
            "metadata": {
                "azdata_cell_guid": "2e760cc8-d076-4a69-9b1b-5d8369fdb3a1"
            },
            "attachments": {}
        },
        {
            "cell_type": "markdown",
            "source": [
                "## **Pré Requisitos**\n",
                "\n",
                "- **Database Mail deve estar configurado e funcionando**\n",
                "    - ver: **[Database Mail](https://github.com/carlosgimenes/Training-Tarefas_Dia_Dia_de_um_DBA/blob/9ed5e8db026432b1083b85ff6e02abde48322329/src/Database-Mail.ipynb)**\n",
                "- **Database Traces deve existir**\n",
                "    - ver: **[Database Baseline Whoisactive](https://github.com/carlosgimenes/Training-Tarefas_Dia_Dia_de_um_DBA/blob/9ed5e8db026432b1083b85ff6e02abde48322329/src/DatabaseBaselineWhoisactive.ipynb)**"
            ],
            "metadata": {
                "azdata_cell_guid": "67ac3edc-181f-4b69-9713-47b7419dead3"
            },
            "attachments": {}
        },
        {
            "cell_type": "markdown",
            "source": [
                "# **Passo 1 - Criação Tabelas de Apoio**\n",
                "\n",
                "- **Table - BaseDados**"
            ],
            "metadata": {
                "azdata_cell_guid": "a48d0c89-365d-456e-b0a6-698b7ddf4c81"
            },
            "attachments": {}
        },
        {
            "cell_type": "code",
            "source": [
                "/*\n",
                "-------------------------------------------------------------------------------------------------------------------------\n",
                "\tTitle\t\t:\tFragmentacao Indices\n",
                "-------------------------------------------------------------------------------------------------------------------------\n",
                "\tAuthor\t\t:\tGimenes\n",
                "\tDate\t\t:\t08/12/2023\n",
                "\tRequester\t:\tGimenes\n",
                "\tPurpose\t\t:\tDatabase Fragmentacao Indices - Criacao tabela [BaseDados]\n",
                "\tProgram\t\t:\tNot applicable\n",
                "    Credito     :   http://www.fabriciolima.net/\n",
                "\t\t\t\n",
                "-------------------------------------------------------------------------------------------------------------------------\n",
                "*/\n",
                "\n",
                "-- >>> Start of Query\n",
                "\n",
                "-----------------------------------------------------------------------------------------------------------------------\n",
                "-- Table to store Databases name\n",
                "-----------------------------------------------------------------------------------------------------------------------\n",
                "\n",
                "USE Traces\n",
                "GO\n",
                "\n",
                "if object_id('BaseDados') is not null\n",
                "\tdrop table BaseDados\n",
                "CREATE TABLE [dbo].[BaseDados](\n",
                "\t[Id_BaseDados] [int] IDENTITY(1,1) NOT NULL,\n",
                "\t[Nm_Database] [varchar](100) NULL\n",
                "\t CONSTRAINT [PK_BaseDados] PRIMARY KEY CLUSTERED (Id_BaseDados)\n",
                "\n",
                ") ON [PRIMARY]\n",
                "\n",
                "-- <<< End of Query\n",
                ""
            ],
            "metadata": {
                "azdata_cell_guid": "35facd33-0ec4-4e26-8bca-5a30e4866551",
                "language": "sql"
            },
            "outputs": [],
            "execution_count": null
        },
        {
            "cell_type": "markdown",
            "source": [
                "- **Table - Tabela**"
            ],
            "metadata": {
                "language": "sql",
                "azdata_cell_guid": "1d010927-69cd-46a3-bdc5-93df20c7453b"
            },
            "attachments": {}
        },
        {
            "cell_type": "code",
            "source": [
                "/*\n",
                "-------------------------------------------------------------------------------------------------------------------------\n",
                "\tTitle\t\t:\tFragmentacao Indices\n",
                "-------------------------------------------------------------------------------------------------------------------------\n",
                "\tAuthor\t\t:\tGimenes\n",
                "\tDate\t\t:\t08/12/2023\n",
                "\tRequester\t:\tGimenes\n",
                "\tPurpose\t\t:\tDatabase Fragmentacao Indices - Criacao tabela [Tabela]\n",
                "\tProgram\t\t:\tNot applicable\n",
                "    Credito     :   http://www.fabriciolima.net/\n",
                "\t\t\t\n",
                "-------------------------------------------------------------------------------------------------------------------------\n",
                "*/\n",
                "\n",
                "-- >>> Start of Query\n",
                "\n",
                "-----------------------------------------------------------------------------------------------------------------------\n",
                "-- Table to store Table name\n",
                "-----------------------------------------------------------------------------------------------------------------------\n",
                "\n",
                "USE Traces\n",
                "GO\n",
                "\n",
                "if object_id('Tabela') is not null\n",
                "drop table Tabela\n",
                "\n",
                "CREATE TABLE [dbo].[Tabela](\n",
                "[Id_Tabela] [int] IDENTITY(1,1) NOT NULL,\n",
                "[Nm_Tabela] [varchar](1000) NULL,\n",
                "CONSTRAINT [PK_Tabela] PRIMARY KEY CLUSTERED \n",
                "(\n",
                "[Id_Tabela] ASC\n",
                ")WITH (PAD_INDEX  = OFF, STATISTICS_NORECOMPUTE  = OFF, IGNORE_DUP_KEY = OFF, ALLOW_ROW_LOCKS  = ON, ALLOW_PAGE_LOCKS  = ON) ON [PRIMARY]\n",
                ") ON [PRIMARY]\n",
                "\n",
                "-- <<< End of Query\n",
                ""
            ],
            "metadata": {
                "language": "sql",
                "azdata_cell_guid": "d39692de-4d22-4493-96e7-ec726d7733fc"
            },
            "outputs": [],
            "execution_count": null
        },
        {
            "cell_type": "markdown",
            "source": [
                "- **Table - Servidor**"
            ],
            "metadata": {
                "language": "sql",
                "azdata_cell_guid": "f62f2b9a-e6dc-4dd7-96d4-4c0344023fcb"
            },
            "attachments": {}
        },
        {
            "cell_type": "code",
            "source": [
                "/*\n",
                "-------------------------------------------------------------------------------------------------------------------------\n",
                "\tTitle\t\t:\tFragmentacao Indices\n",
                "-------------------------------------------------------------------------------------------------------------------------\n",
                "\tAuthor\t\t:\tGimenes\n",
                "\tDate\t\t:\t08/12/2023\n",
                "\tRequester\t:\tGimenes\n",
                "\tPurpose\t\t:\tDatabase Fragmentacao Indices - Criacao tabela [Servidor]\n",
                "\tProgram\t\t:\tNot applicable\n",
                "    Credito     :   http://www.fabriciolima.net/\n",
                "\t\t\t\n",
                "-------------------------------------------------------------------------------------------------------------------------\n",
                "*/\n",
                "\n",
                "-- >>> Start of Query\n",
                "\n",
                "-----------------------------------------------------------------------------------------------------------------------\n",
                "-- Table to store Servers name\n",
                "-----------------------------------------------------------------------------------------------------------------------\n",
                "\n",
                "USE Traces\n",
                "GO\n",
                "\n",
                "if object_id('Servidor') is not null\n",
                "drop table Servidor\n",
                "\n",
                "CREATE TABLE [dbo].[Servidor](\n",
                "[Id_Servidor] [int] IDENTITY(1,1) NOT NULL,\n",
                "[Nm_Servidor] [varchar](50) NOT NULL,\n",
                "CONSTRAINT [PK_Servidor] PRIMARY KEY CLUSTERED \n",
                "(\n",
                "[Id_Servidor] ASC\n",
                ")WITH (PAD_INDEX  = OFF, STATISTICS_NORECOMPUTE  = OFF, IGNORE_DUP_KEY = OFF, ALLOW_ROW_LOCKS  = ON, ALLOW_PAGE_LOCKS  = ON) ON [PRIMARY]\n",
                ") ON [PRIMARY]\n",
                "\n",
                "-- <<< End of Query\n",
                ""
            ],
            "metadata": {
                "language": "sql",
                "azdata_cell_guid": "7e8e6237-36ec-4ee9-818c-0f715753cd85"
            },
            "outputs": [],
            "execution_count": null
        },
        {
            "cell_type": "markdown",
            "source": [
                "- **Table - Historico\\_Fragmentacao\\_Indice**"
            ],
            "metadata": {
                "language": "sql",
                "azdata_cell_guid": "45700567-f646-49be-a55d-7a8236436178"
            },
            "attachments": {}
        },
        {
            "cell_type": "code",
            "source": [
                "/*\n",
                "-------------------------------------------------------------------------------------------------------------------------\n",
                "\tTitle\t\t:\tFragmentacao Indices\n",
                "-------------------------------------------------------------------------------------------------------------------------\n",
                "\tAuthor\t\t:\tGimenes\n",
                "\tDate\t\t:\t08/12/2023\n",
                "\tRequester\t:\tGimenes\n",
                "\tPurpose\t\t:\tDatabase Fragmentacao Indices - Criacao tabela [Historico_Fragmentacao_Indice]\n",
                "\tProgram\t\t:\tNot applicable\n",
                "    Credito     :   http://www.fabriciolima.net/\n",
                "\t\t\t\n",
                "-------------------------------------------------------------------------------------------------------------------------\n",
                "*/\n",
                "\n",
                "-- >>> Start of Query\n",
                "\n",
                "-----------------------------------------------------------------------------------------------------------------------\n",
                "-- Table to store Index Fragmentation History\n",
                "-----------------------------------------------------------------------------------------------------------------------\n",
                "\n",
                "USE Traces\n",
                "GO\n",
                "\n",
                "if object_id('Historico_Fragmentacao_Indice') is not null\n",
                "\tdrop table Historico_Fragmentacao_Indice\n",
                "\n",
                "CREATE TABLE Historico_Fragmentacao_Indice(\n",
                "\t[Id_Hitorico_Fragmentacao_Indice] [int] IDENTITY(1,1) NOT NULL,\n",
                "\t[Dt_Referencia] [datetime] NULL,\n",
                "\t[Id_Servidor] [smallint] NULL,\n",
                "\t[Id_BaseDados] [smallint] NULL,\n",
                "\t[Id_Tabela] [int] NULL,\n",
                "\t[Nm_Indice] [varchar](1000) NULL,\n",
                "\t[Nm_Schema] varchar(50),\n",
                "\t[Avg_Fragmentation_In_Percent] [numeric](5, 2) NULL,\n",
                "\t[Page_Count] [int] NULL,\n",
                "\t[Fill_Factor] [tinyint] NULL,\n",
                "\t[Fl_Compressao] [tinyint] NULL\n",
                ") ON [PRIMARY]\n",
                "\n",
                "-- <<< End of Query\n",
                "\n",
                ""
            ],
            "metadata": {
                "language": "sql",
                "azdata_cell_guid": "fe8d5222-d133-4c73-a419-a584c97be085"
            },
            "outputs": [],
            "execution_count": null
        },
        {
            "cell_type": "markdown",
            "source": [
                "# **Passo 2 - Criação VIEW Apoio**\n",
                "\n",
                "- **VIEW -** <span style=\"font-size: 14px;\"><b>vwHistorico_Fragmentacao_Indice</b></span>"
            ],
            "metadata": {
                "language": "sql",
                "azdata_cell_guid": "5a5b1949-db26-4891-95bf-9cc806e0224e"
            },
            "attachments": {}
        },
        {
            "cell_type": "code",
            "source": [
                "/*\n",
                "-------------------------------------------------------------------------------------------------------------------------\n",
                "\tTitle\t\t:\tFragmentacao Indices\n",
                "-------------------------------------------------------------------------------------------------------------------------\n",
                "\tAuthor\t\t:\tGimenes\n",
                "\tDate\t\t:\t08/12/2023\n",
                "\tRequester\t:\tGimenes\n",
                "\tPurpose\t\t:\tDatabase Fragmentacao Indices - Criacao View [vwHistorico_Fragmentacao_Indice]\n",
                "\tProgram\t\t:\tNot applicable\n",
                "    Credito     :   http://www.fabriciolima.net/\n",
                "\t\t\t\n",
                "-------------------------------------------------------------------------------------------------------------------------\n",
                "*/\n",
                "\n",
                "-- >>> Start of Query\n",
                "\n",
                "-----------------------------------------------------------------------------------------------------------------------\n",
                "-- Viewer to show Index Fragmentation\n",
                "-----------------------------------------------------------------------------------------------------------------------\n",
                "\n",
                "USE Traces\n",
                "GO\n",
                "\n",
                "if object_id('vwHistorico_Fragmentacao_Indice') is not null\n",
                "\tdrop View vwHistorico_Fragmentacao_Indice\n",
                "GO\n",
                "\n",
                "create view vwHistorico_Fragmentacao_Indice\n",
                "AS\n",
                "select A.Dt_Referencia, B.Nm_Servidor, C.Nm_Database,D.Nm_Tabela ,A.Nm_Indice, A.Nm_Schema, \n",
                "\tA.Avg_Fragmentation_In_Percent, A.Page_Count, A.Fill_Factor, A.Fl_Compressao\n",
                "from Historico_Fragmentacao_Indice A\n",
                "\tjoin Servidor B on A.Id_Servidor = B.Id_Servidor\n",
                "\tjoin BaseDados C on A.Id_BaseDados = C.Id_BaseDados\n",
                "\tjoin Tabela D on A.Id_Tabela = D.Id_Tabela\n",
                "GO\n",
                "\n",
                "-- <<< End of Query\n",
                ""
            ],
            "metadata": {
                "language": "sql",
                "azdata_cell_guid": "90280e28-6355-4e51-9af0-a9703309de5a"
            },
            "outputs": [],
            "execution_count": null
        },
        {
            "cell_type": "markdown",
            "source": [
                "# **Passo 3 - Criação Procedure que verifica fragmentação dos índices**"
            ],
            "metadata": {
                "language": "sql",
                "azdata_cell_guid": "7d81f0b0-61a5-485c-8264-729f4e01709f"
            },
            "attachments": {}
        },
        {
            "cell_type": "markdown",
            "source": [
                "- **Procedure** <span style=\"font-size: 14px;\"><b>stpCarga_Fragmentacao_Indice</b></span>"
            ],
            "metadata": {
                "language": "sql",
                "azdata_cell_guid": "905418ae-05ad-432d-b356-a3a35ac688b7"
            },
            "attachments": {}
        },
        {
            "cell_type": "code",
            "source": [
                "/*\n",
                "-------------------------------------------------------------------------------------------------------------------------\n",
                "\tTitle\t\t:\tFragmentacao Indices\n",
                "-------------------------------------------------------------------------------------------------------------------------\n",
                "\tAuthor\t\t:\tGimenes\n",
                "\tDate\t\t:\t08/12/2023\n",
                "\tRequester\t:\tGimenes\n",
                "\tPurpose\t\t:\tDatabase Fragmentacao Indices - Criacao Procedure [stpCarga_Fragmentacao_Indice]\n",
                "\tProgram\t\t:\tNot applicable\n",
                "    Credito     :   http://www.fabriciolima.net/\n",
                "\t\t\t\n",
                "-------------------------------------------------------------------------------------------------------------------------\n",
                "*/\n",
                "\n",
                "-- >>> Start of Query\n",
                "\n",
                "-----------------------------------------------------------------------------------------------------------------------\n",
                "-- Procedure to colect Index Fragmentation History\n",
                "-----------------------------------------------------------------------------------------------------------------------\n",
                "\n",
                "USE Traces\n",
                "GO\n",
                "\n",
                "if object_id('stpCarga_Fragmentacao_Indice') is not null\n",
                "\tdrop procedure stpCarga_Fragmentacao_Indice\n",
                "GO\n",
                "\n",
                "CREATE procedure [dbo].[stpCarga_Fragmentacao_Indice]\n",
                "AS\n",
                "BEGIN\n",
                "\tSET NOCOUNT ON\n",
                "\t \n",
                "\t\n",
                "\tIF object_id('tempdb..##Historico_Fragmentacao_Indice') IS NOT NULL DROP TABLE ##Historico_Fragmentacao_Indice\n",
                "\t\n",
                "\tCREATE TABLE ##Historico_Fragmentacao_Indice(\n",
                "\t\t[Id_Hitorico_Fragmentacao_Indice] [int] IDENTITY(1,1) NOT NULL,\n",
                "\t\t[Dt_Referencia] [datetime] NULL,\n",
                "\t\t[Nm_Servidor] VARCHAR(50) NULL,\n",
                "\t\t[Nm_Database] VARCHAR(100) NULL,\n",
                "\t\t[Nm_Tabela] VARCHAR(1000) NULL,\n",
                "\t\t[Nm_Indice] [varchar](1000) NULL,\n",
                "\t\tNm_Schema varchar(50),\n",
                "\t\t[Avg_Fragmentation_In_Percent] [numeric](5, 2) NULL,\n",
                "\t\t[Page_Count] [int] NULL,\n",
                "\t\t[Fill_Factor] [tinyint] NULL,\n",
                "\t\t[Fl_Compressao] [tinyint] NULL\n",
                "\t) ON [PRIMARY]\n",
                "\n",
                " \n",
                "\tEXEC sp_MSforeachdb 'Use [?]; \n",
                "\tdeclare @Id_Database int \n",
                "\tset @Id_Database = db_id()\n",
                "\tinsert into ##Historico_Fragmentacao_Indice\n",
                "\tselect getdate(), @@servername Nm_Servidor,  DB_NAME(db_id()) Nm_Database, D.Name Nm_Tabela,  B.Name Nm_Indice,F.name Nm_Schema, avg_fragmentation_in_percent,\n",
                "\tpage_Count,fill_factor,data_compression\t\n",
                "\t\tfrom sys.dm_db_index_physical_stats(@Id_Database,null,null,null,null) A\n",
                "\t\t\tjoin sys.indexes B on A.object_id = B.Object_id and A.index_id = B.index_id\n",
                "            JOIN sys.partitions C ON C.object_id = B.object_id AND C.index_id = B.index_id\n",
                "            JOIN sys.sysobjects D ON A.object_id = D.id\n",
                "                join sys.objects E on D.id = E.object_id\n",
                "            join  sys.schemas F on E.schema_id = F.schema_id\n",
                "            '\n",
                "    -- select * from ##Historico_Fragmentacao_Indice\n",
                "\n",
                "    DELETE FROM ##Historico_Fragmentacao_Indice\n",
                "    WHERE Nm_Database IN ('master','msdb','tempdb')\n",
                "    \n",
                "    INSERT INTO Traces.dbo.Servidor(Nm_Servidor)\n",
                "\tSELECT DISTINCT A.Nm_Servidor \n",
                "\tFROM ##Historico_Fragmentacao_Indice A\n",
                "\t\tLEFT JOIN Traces.dbo.Servidor B ON A.Nm_Servidor = B.Nm_Servidor\n",
                "\tWHERE B.Nm_Servidor IS null\n",
                "\t\t\n",
                "\tINSERT INTO Traces.dbo.BaseDados(Nm_Database)\n",
                "\tSELECT DISTINCT A.Nm_Database \n",
                "\tFROM ##Historico_Fragmentacao_Indice A\n",
                "\t\tLEFT JOIN Traces.dbo.BaseDados B ON A.Nm_Database = B.Nm_Database\n",
                "\tWHERE B.Nm_Database IS null\n",
                "\t\n",
                "\tINSERT INTO Traces.dbo.Tabela(Nm_Tabela)\n",
                "\tSELECT DISTINCT A.Nm_Tabela \n",
                "\tFROM ##Historico_Fragmentacao_Indice A\n",
                "\t\tLEFT JOIN Traces.dbo.Tabela B ON A.Nm_Tabela = B.Nm_Tabela\n",
                "\tWHERE B.Nm_Tabela IS null\t\n",
                "\t\n",
                "    INSERT INTO Traces..Historico_Fragmentacao_Indice(Dt_Referencia,Id_Servidor,Id_BaseDados,Id_Tabela,Nm_Indice,Nm_Schema,Avg_Fragmentation_In_Percent,\n",
                "\t\t\tPage_Count,Fill_Factor,Fl_Compressao)\t\n",
                "    SELECT A.Dt_Referencia,E.Id_Servidor, D.Id_BaseDados,C.Id_Tabela,A.Nm_Indice,A.Nm_Schema,A.Avg_Fragmentation_In_Percent,A.Page_Count,A.Fill_Factor,A.Fl_Compressao \n",
                "    FROM ##Historico_Fragmentacao_Indice A \n",
                "    \tJOIN Traces.dbo.Tabela C ON A.Nm_Tabela = C.Nm_Tabela\n",
                "\t\tJOIN Traces.dbo.BaseDados D ON A.Nm_Database = D.Nm_Database\n",
                "\t\tJOIN Traces.dbo.Servidor E ON A.Nm_Servidor = E.Nm_Servidor \n",
                "    \tLEFT JOIN Historico_Fragmentacao_Indice B ON E.Id_Servidor = B.Id_Servidor AND D.Id_BaseDados = B.Id_BaseDados  \n",
                "    \t\t\t\t\t\t\t\t\t\t\t\t\tAND C.Id_Tabela = B.Id_Tabela AND A.Nm_Indice = B.Nm_Indice \n",
                "    \t\t\t\t\t\t\t\t\t\t\t\t\tAND CONVERT(VARCHAR, A.Dt_Referencia ,112) = CONVERT(VARCHAR, B.Dt_Referencia ,112)\n",
                "\tWHERE A.Nm_Indice IS NOT NULL AND B.Id_Hitorico_Fragmentacao_Indice IS NULL\n",
                "    ORDER BY 2,3,4,5        \t\t\t\n",
                "end\n",
                "\n",
                "-- <<< End of Query\n",
                "\n",
                ""
            ],
            "metadata": {
                "language": "sql",
                "azdata_cell_guid": "59700e07-8310-4eec-bfbb-05ff6f61fa47"
            },
            "outputs": [],
            "execution_count": null
        },
        {
            "cell_type": "markdown",
            "source": [
                "# **Passo 4 - Criação do Job processa verificação Fragmentação Índices**"
            ],
            "metadata": {
                "language": "sql",
                "azdata_cell_guid": "9430b50a-f9b8-4850-a139-9b49574caa12"
            },
            "attachments": {}
        },
        {
            "cell_type": "markdown",
            "source": [
                "- **Job \\[DBA - Coleta Fragmentacao Indices\\]**\n",
                "    - _Processa apenas uma vez ao dia_\n",
                "- _**ATENÇÃO AOS AJUSTES QUE DEVEM SER FEITOS ANTES DE PROCESSAR!!!**_"
            ],
            "metadata": {
                "language": "sql",
                "azdata_cell_guid": "3b94997e-2206-4e94-88df-4ef480055df9"
            },
            "attachments": {}
        },
        {
            "cell_type": "code",
            "source": [
                "/*\n",
                "--------------------------------------------------------------------------------------------------------------------------------\n",
                "Title\t\t:\tFragmentacao Indices\n",
                "--------------------------------------------------------------------------------------------------------------------------------\n",
                "Author\t\t:\tGimenes\n",
                "Date\t\t:\t08/12/2023\n",
                "Requester\t:\tGimenes\n",
                "Purpose\t\t:\tDatabase Fragmentacao Indices - Cria Job [DBA - Coleta Fragmentacao Indices]\n",
                "Program\t\t:\tNot applicable\n",
                "Credito     :   http://www.fabriciolima.net/\n",
                "--------------------------------------------------------------------------------------------------------------------------------\n",
                "*/\n",
                "\n",
                "-- >>> Start of Query\n",
                "\n",
                "USE [msdb]\n",
                "GO\n",
                "DECLARE @jobId BINARY(16)\n",
                "EXEC  msdb.dbo.sp_add_job @job_name=N'DBA - Coleta Fragmentacao Indices', \n",
                "\t\t@enabled=1, \n",
                "\t\t@notify_level_eventlog=0, \n",
                "\t\t@notify_level_email=2, \n",
                "\t\t@notify_level_page=2, \n",
                "\t\t@delete_level=0, \n",
                "\t\t@description=N'Verificação nível de fragmentação dos índices dos Databases', \n",
                "\t\t@category_name=N'Database Maintenance', \n",
                "\t\t@owner_login_name=N'NOME_USUARIO', \t-- AJUSTAR\n",
                "\t\t@notify_email_operator_name=N'Alerta_BD', @job_id = @jobId OUTPUT\n",
                "select @jobId\n",
                "GO\n",
                "EXEC msdb.dbo.sp_add_jobserver @job_name=N'DBA - Coleta Fragmentacao Indices', @server_name = N'NOME_DO_SERVIDOR'\t--AJUSTAR\n",
                "GO\n",
                "USE [msdb]\n",
                "GO\n",
                "EXEC msdb.dbo.sp_add_jobstep @job_name=N'DBA - Coleta Fragmentacao Indices', @step_name=N'Step_1', \n",
                "\t\t@step_id=1, \n",
                "\t\t@cmdexec_success_code=0, \n",
                "\t\t@on_success_action=1, \n",
                "\t\t@on_fail_action=2, \n",
                "\t\t@retry_attempts=0, \n",
                "\t\t@retry_interval=0, \n",
                "\t\t@os_run_priority=0, @subsystem=N'TSQL', \n",
                "\t\t@command=N'EXEC [dbo].[stpCarga_Fragmentacao_Indice]', \n",
                "\t\t@database_name=N'Traces', \n",
                "\t\t@flags=0\n",
                "GO\n",
                "USE [msdb]\n",
                "GO\n",
                "EXEC msdb.dbo.sp_update_job @job_name=N'DBA - Coleta Fragmentacao Indices', \n",
                "\t\t@enabled=1, \n",
                "\t\t@start_step_id=1, \n",
                "\t\t@notify_level_eventlog=0, \n",
                "\t\t@notify_level_email=2, \n",
                "\t\t@notify_level_page=2, \n",
                "\t\t@delete_level=0, \n",
                "\t\t@description=N'Verificação nível de fragmentação dos índices dos Databases', \n",
                "\t\t@category_name=N'Database Maintenance', \n",
                "\t\t@owner_login_name=N'sa', \n",
                "\t\t@notify_email_operator_name=N'Alerta_BD', \n",
                "\t\t@notify_page_operator_name=N''\n",
                "GO\n",
                "USE [msdb]\n",
                "GO\n",
                "DECLARE @schedule_id int\n",
                "EXEC msdb.dbo.sp_add_jobschedule @job_name=N'DBA - Coleta Fragmentacao Indices', @name=N'Schedule_1', \n",
                "\t\t@enabled=1, \n",
                "\t\t@freq_type=8, \n",
                "\t\t@freq_interval=127, \n",
                "\t\t@freq_subday_type=1, \n",
                "\t\t@freq_subday_interval=0, \n",
                "\t\t@freq_relative_interval=0, \n",
                "\t\t@freq_recurrence_factor=1, \n",
                "\t\t@active_start_date=20231208, \n",
                "\t\t@active_end_date=99991231, \n",
                "\t\t@active_start_time=11500, \n",
                "\t\t@active_end_time=235959, @schedule_id = @schedule_id OUTPUT\n",
                "select @schedule_id\n",
                "GO\n",
                "\n",
                "-- <<< End of Query\n",
                ""
            ],
            "metadata": {
                "language": "sql",
                "azdata_cell_guid": "3ba79940-240b-4649-9d14-c8caf15b82fc"
            },
            "outputs": [],
            "execution_count": null
        },
        {
            "cell_type": "markdown",
            "source": [
                "# **Passo 5 - Analise Resultados**"
            ],
            "metadata": {
                "language": "sql",
                "azdata_cell_guid": "53cf8fe0-1f62-4e80-9a00-47fde8c90bb2"
            },
            "attachments": {}
        },
        {
            "cell_type": "markdown",
            "source": [
                "- **Verificação de Índices Fragmentados**\n",
                "- _**ATENÇÃO AOS AJUSTES QUE DEVEM SER FEITOS ANTES DE PROCESSAR!!!**_"
            ],
            "metadata": {
                "language": "sql",
                "azdata_cell_guid": "05d02700-589f-4a26-8bd1-b47b4e1c4147"
            },
            "attachments": {}
        },
        {
            "cell_type": "code",
            "source": [
                "/*\n",
                "--------------------------------------------------------------------------------------------------------------------------------\n",
                "Title\t\t:\tFragmentacao Indices\n",
                "--------------------------------------------------------------------------------------------------------------------------------\n",
                "Author\t\t:\tGimenes\n",
                "Date\t\t:\t08/12/2023\n",
                "Requester\t:\tGimenes\n",
                "Purpose\t\t:\tDatabase Fragmentacao Indices - Analise dos Resultados\n",
                "Program\t\t:\tNot applicable\n",
                "Credito     :   http://www.fabriciolima.net/\n",
                "--------------------------------------------------------------------------------------------------------------------------------\n",
                "*/\n",
                "\n",
                "-- >>> Start of Query\n",
                "\n",
                "SELECT *\n",
                "FROM\n",
                "Traces.dbo.vwHistorico_Fragmentacao_Indice\n",
                "WHERE\n",
                "CONVERT(date, Dt_Referencia) = '1900/01/01'                     -- Aplique o filtro de data para diminuir o retorno dos dados\n",
                "AND Nm_Database = 'NOME_DO_DATABASE'                            -- Aplique o filtro de data para diminuir o retorno dos dados\n",
                "AND Nm_Tabela = 'NOME_DA_TABELA'                                -- Aplique o filtro de data para diminuir o retorno dos dados\n",
                "AND Page_Count > 1000                                           -- Indices com menos de 1.000 paginas devem ser ignorados\n",
                "ORDER BY\n",
                "avg_fragmentation_in_percent DESC\n",
                "\n",
                "-- <<< End of Query\n",
                ""
            ],
            "metadata": {
                "language": "sql",
                "azdata_cell_guid": "38c0e046-09ed-4a50-a272-636983257462"
            },
            "outputs": [],
            "execution_count": null
        },
        {
            "cell_type": "markdown",
            "source": [
                "- **Verificação da Fragmentação do Índice**\n",
                "- _**ATENÇÃO AOS AJUSTES QUE DEVEM SER FEITOS ANTES DE PROCESSAR!!!**_"
            ],
            "metadata": {
                "language": "sql",
                "azdata_cell_guid": "eab3ac7a-092c-4b84-9225-3b66f342cae2"
            },
            "attachments": {}
        },
        {
            "cell_type": "markdown",
            "source": [
                "_Mode_ specifies the scan level that is used to obtain statistics. _mode_ is **sysname**. Valid inputs are DEFAULT, NULL, LIMITED, SAMPLED, or DETAILED. The default (NULL) is LIMITED.\n",
                "\n",
                "[sys.dm\\_db\\_index\\_physical\\_stats](https://learn.microsoft.com/en-us/sql/relational-databases/system-dynamic-management-views/sys-dm-db-index-physical-stats-transact-sql?view=sql-server-ver16)"
            ],
            "metadata": {
                "language": "sql",
                "azdata_cell_guid": "70e2d91c-4bc0-4e23-af9a-6dd30430b93c"
            },
            "attachments": {}
        },
        {
            "cell_type": "code",
            "source": [
                "/*\n",
                "--------------------------------------------------------------------------------------------------------------------------------\n",
                "Title\t\t:\tFragmentacao Indices\n",
                "--------------------------------------------------------------------------------------------------------------------------------\n",
                "Author\t\t:\tGimenes\n",
                "Date\t\t:\t08/12/2023\n",
                "Requester\t:\tGimenes\n",
                "Purpose\t\t:\tDatabase Fragmentacao Indices - Analise dos Resultados\n",
                "Program\t\t:\tNot applicable\n",
                "Credito     :   http://www.fabriciolima.net/\n",
                "--------------------------------------------------------------------------------------------------------------------------------\n",
                "*/\n",
                "\n",
                "-- >>> Start of Query\n",
                "\n",
                "DECLARE @db_id SMALLINT;\n",
                "DECLARE @object_id INT;\n",
                "DECLARE @mode VARCHAR(10);\n",
                "  \n",
                "SET @db_id = DB_ID(N'NOME_DO_DATABASE');\t\t\t\t\t\t\t\t\t\t\t\t\t\t-- Informar Database\n",
                "SET @object_id = OBJECT_ID(N'DATABASE.SCHEMA.TABLE');\t\t\t\t\t\t\t\t\t\t\t-- Informar Database + Schema + Table\n",
                "--SET @mode = 'LIMITED';\t\t\t\t\t\t\t\t\t\t\t\t\t\t\t\t\t\t-- Informar Modo de Verificacao\n",
                "--SET @mode = 'SAMPLED';\t\t\t\t\t\t\t\t\t\t\t\t\t\t\t\t\t\t-- Informar Modo de Verificacao\n",
                "SET @mode = 'DETAILED';\t\t\t\t\t\t\t\t\t\t\t\t\t\t\t\t\t\t\t-- Informar Modo de Verificacao\n",
                "  \n",
                "IF @db_id IS NULL\n",
                "BEGIN;\n",
                "    PRINT N'Invalid database';\n",
                "END;\n",
                "ELSE IF @object_id IS NULL\n",
                "BEGIN;\n",
                "    PRINT N'Invalid object';\n",
                "END;\n",
                "ELSE\n",
                "BEGIN;\n",
                "    SELECT \n",
                "\t\tindex_Type_desc,avg_page_space_used_in_percent\n",
                "\t\t,avg_fragmentation_in_percent\t\n",
                "\t\t,index_level\n",
                "\t\t,record_count\n",
                "\t\t,page_count\n",
                "\t\t,fragment_count\n",
                "\t\t,avg_record_size_in_bytes\n",
                "\tFROM \n",
                "\t\tsys.dm_db_index_physical_stats(@db_id, @object_id, NULL, NULL , @mode);\n",
                "END;\n",
                "GO\n",
                "\n",
                "-- <<< End of Query\n",
                ""
            ],
            "metadata": {
                "language": "sql",
                "azdata_cell_guid": "0879a16f-66e1-409f-bb63-55e103d1d8ae"
            },
            "outputs": [],
            "execution_count": null
        },
        {
            "cell_type": "markdown",
            "source": [
                "# **Passo 6 - Executar  REORGANIZE ou REBUILD (Manual)**"
            ],
            "metadata": {
                "language": "sql",
                "azdata_cell_guid": "0438cfd0-e09d-4c38-8251-e743a96b0e41"
            },
            "attachments": {}
        },
        {
            "cell_type": "markdown",
            "source": [
                "- **REORGANIZE**\n",
                "- _**ATENÇÃO AOS AJUSTES QUE DEVEM SER FEITOS ANTES DE PROCESSAR!!!**_"
            ],
            "metadata": {
                "language": "sql",
                "azdata_cell_guid": "119f04ca-9a62-4733-be27-a578ae8fc775"
            },
            "attachments": {}
        },
        {
            "cell_type": "code",
            "source": [
                "/*\n",
                "--------------------------------------------------------------------------------------------------------------------------------\n",
                "Title\t\t:\tFragmentacao Indices\n",
                "--------------------------------------------------------------------------------------------------------------------------------\n",
                "Author\t\t:\tGimenes\n",
                "Date\t\t:\t08/12/2023\n",
                "Requester\t:\tGimenes\n",
                "Purpose\t\t:\tDatabase Fragmentacao Indices - Analise dos Resultados\n",
                "Program\t\t:\tNot applicable\n",
                "Credito     :   http://www.fabriciolima.net/\n",
                "--------------------------------------------------------------------------------------------------------------------------------\n",
                "*/\n",
                "\n",
                "-- >>> Start of Query\n",
                "\n",
                "ALTER INDEX Nome_do_Indice ON NOME_DO_DATABASE.SCHEMA.TABLE   -- AJUSTAR\n",
                "REORGANIZE\n",
                "\n",
                "-- <<< End of Query\n",
                ""
            ],
            "metadata": {
                "language": "sql",
                "azdata_cell_guid": "80eedc12-6385-4f16-aa54-dac93fbffd97"
            },
            "outputs": [],
            "execution_count": null
        },
        {
            "cell_type": "markdown",
            "source": [
                "- **REBUILD**\n",
                "- _**ATENÇÃO AOS AJUSTES QUE DEVEM SER FEITOS ANTES DE PROCESSAR!!!**_"
            ],
            "metadata": {
                "language": "sql",
                "azdata_cell_guid": "9ad7d8c8-e238-4dfd-96bc-9806badc9c28"
            },
            "attachments": {}
        },
        {
            "cell_type": "code",
            "source": [
                "/*\n",
                "--------------------------------------------------------------------------------------------------------------------------------\n",
                "Title\t\t:\tFragmentacao Indices\n",
                "--------------------------------------------------------------------------------------------------------------------------------\n",
                "Author\t\t:\tGimenes\n",
                "Date\t\t:\t08/12/2023\n",
                "Requester\t:\tGimenes\n",
                "Purpose\t\t:\tDatabase Fragmentacao Indices - Analise dos Resultados\n",
                "Program\t\t:\tNot applicable\n",
                "Credito     :   http://www.fabriciolima.net/\n",
                "--------------------------------------------------------------------------------------------------------------------------------\n",
                "*/\n",
                "\n",
                "-- >>> Start of Query\n",
                "\n",
                "ALTER INDEX Nome_do_Indice ON NOME_DO_DATABASE.SCHEMA.TABLE   -- AJUSTAR\n",
                "REBUILD\n",
                "\n",
                "-- <<< End of Query"
            ],
            "metadata": {
                "language": "sql",
                "azdata_cell_guid": "27fac091-af27-400a-b342-59b8db47f7ea"
            },
            "outputs": [],
            "execution_count": null
        },
        {
            "cell_type": "markdown",
            "source": [
                "- **Alternativamente**\n",
                "    - Neste caso com base na View **vwHistorico\\_Fragmentacao\\_Indice** gero os Scripts para processamento \"Manual\" do REORGANIZE ou REBUILD"
            ],
            "metadata": {
                "language": "sql",
                "azdata_cell_guid": "83715fd9-43a6-413b-94d4-6dc02d0c56ff"
            },
            "attachments": {}
        },
        {
            "cell_type": "code",
            "source": [
                "/*\n",
                "--------------------------------------------------------------------------------------------------------------------------------\n",
                "Title\t\t:\tFragmentacao Indices\n",
                "--------------------------------------------------------------------------------------------------------------------------------\n",
                "Author\t\t:\tGimenes\n",
                "Date\t\t:\t08/12/2023\n",
                "Requester\t:\tGimenes\n",
                "Purpose\t\t:\tDatabase Fragmentacao Indices - Analise dos Resultados\n",
                "Program\t\t:\tNot applicable\n",
                "Credito     :   http://www.fabriciolima.net/\n",
                "--------------------------------------------------------------------------------------------------------------------------------\n",
                "*/\n",
                "\n",
                "-- >>> Start of Query\n",
                "\n",
                "SELECT identity(INT, 1, 1) Id\n",
                "    , 'ALTER INDEX [' + Nm_Indice + '] ON ' + Nm_Database + '.' + Nm_Schema + '.[' + Nm_Tabela + CASE \n",
                "        WHEN Avg_Fragmentation_In_Percent < 30\n",
                "            THEN '] REORGANIZE'\n",
                "        ELSE '] REBUILD'            -- Como existe janela para isso, sempre fazer rebuild\n",
                "        END Comando\n",
                "    , Page_Count\n",
                "    , Nm_Database\n",
                "    , Nm_Tabela\n",
                "    , Nm_Indice\n",
                "    , Fl_Compressao\n",
                "    , Avg_Fragmentation_In_Percent\n",
                "INTO #Indices_Fragmentados\n",
                "FROM Traces.dbo.vwHistorico_Fragmentacao_Indice A WITH (NOLOCK) -- tabela que armazena o historico de fragmentacao\n",
                "JOIN master.sys.databases B\n",
                "    ON B.name = A.Nm_Database\n",
                "WHERE Dt_Referencia >= CAST(FLOOR(cast(getdate() AS FLOAT)) AS DATETIME)\n",
                "    AND Avg_Fragmentation_In_Percent >= 10\n",
                "    AND Page_Count > 1000\n",
                "    AND Nm_Indice IS NOT NULL\n",
                "    AND B.state_desc = 'ONLINE'\n",
                "\n",
                "SELECT *\n",
                "FROM #Indices_Fragmentados\n",
                "\n",
                "DROP TABLE #Indices_Fragmentados\n",
                "\n",
                "-- <<< End of Query\n",
                ""
            ],
            "metadata": {
                "language": "sql",
                "azdata_cell_guid": "caaa076f-e6ab-4a80-bfd4-fe1d532083ba"
            },
            "outputs": [],
            "execution_count": null
        },
        {
            "cell_type": "markdown",
            "source": [
                "* * *\n",
                "\n",
                "# **Fim de arquivo**"
            ],
            "metadata": {
                "language": "sql",
                "azdata_cell_guid": "7afed1dc-7697-4bd6-9563-c6ee8b5141e7"
            },
            "attachments": {}
        }
    ]
}