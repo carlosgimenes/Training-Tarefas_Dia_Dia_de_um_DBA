{
    "metadata": {
        "kernelspec": {
            "name": "SQL",
            "display_name": "SQL",
            "language": "sql"
        },
        "language_info": {
            "name": "sql",
            "version": ""
        }
    },
    "nbformat_minor": 2,
    "nbformat": 4,
    "cells": [
        {
            "cell_type": "markdown",
            "source": [
                "# **SQL Database REBUILD & REORGANIZE**\n",
                "\n",
                "- Carlos Eduardo Gimenes\n",
                "- Last Modified: December, 2023\n",
                "\n",
                "> **Copyright (C) 2023 Carlos Eduardo Gimenes**  \n",
                "> All rights reserved.  \n",
                "> You may alter this code for your own _non-commercial_ purposes.  \n",
                "> You may republish altered code as long as you include this copyright and give due credit.\n",
                "> \n",
                "> THIS CODE AND INFORMATION ARE PROVIDED \"AS IS\" WITHOUT WARRANTY OF ANY KIND, EITHER EXPRESSED OR IMPLIED, INCLUDING BUT NOT LIMITED TO THE IMPLIED WARRANTIES OF MERCHANTABILITY AND/OR FITNESS FOR A PARTICULAR PURPOSE."
            ],
            "metadata": {
                "azdata_cell_guid": "2e760cc8-d076-4a69-9b1b-5d8369fdb3a1"
            },
            "attachments": {}
        },
        {
            "cell_type": "markdown",
            "source": [
                "## **Pré Requisitos**\n",
                "\n",
                "- **Database Mail deve estar configurado e funcionando**\n",
                "    - ver: **[Database Mail](https://github.com/carlosgimenes/Training-Tarefas_Dia_Dia_de_um_DBA/blob/9ed5e8db026432b1083b85ff6e02abde48322329/src/Database-Mail.ipynb)**\n",
                "- **Database Traces deve existir**\n",
                "    - ver: **[Database Baseline Whoisactive](https://github.com/carlosgimenes/Training-Tarefas_Dia_Dia_de_um_DBA/blob/9ed5e8db026432b1083b85ff6e02abde48322329/src/DatabaseBaselineWhoisactive.ipynb)**\n",
                "- **View vwHistorico\\_Fragmentacao\\_Indice deve existir**\n",
                "    - ver: **[Database Fragmentação Índices](https://github.com/carlosgimenes/Training-Tarefas_Dia_Dia_de_um_DBA/blob/9ed5e8db026432b1083b85ff6e02abde48322329/src/DatabaseFragmentacaoIndices.ipynb)**"
            ],
            "metadata": {
                "azdata_cell_guid": "67ac3edc-181f-4b69-9713-47b7419dead3"
            },
            "attachments": {}
        },
        {
            "cell_type": "markdown",
            "source": [
                "# <span style=\"font-size: 28px;\"><b>Step 1 - Creating Procedure that processes REBUILD or REORGANIZE</b></span>"
            ],
            "metadata": {
                "language": "sql",
                "azdata_cell_guid": "7d81f0b0-61a5-485c-8264-729f4e01709f"
            },
            "attachments": {}
        },
        {
            "cell_type": "markdown",
            "source": [
                "- **Procedure** <span style=\"font-size: 14px;\"><b>stpManutencao_Indices</b></span>"
            ],
            "metadata": {
                "language": "sql",
                "azdata_cell_guid": "905418ae-05ad-432d-b356-a3a35ac688b7"
            },
            "attachments": {}
        },
        {
            "cell_type": "code",
            "source": [
                "/*\n",
                "-------------------------------------------------------------------------------------------------------------------------\n",
                "\tTitle\t\t:\tREBUILD or REORGANIZE Index\n",
                "-------------------------------------------------------------------------------------------------------------------------\n",
                "\tAuthor\t\t:\tGimenes\n",
                "\tDate\t\t:\t14/12/2023\n",
                "\tRequester\t:\tGimenes\n",
                "\tPurpose\t\t:\tDatabase Reconstruction or Reorganization of Indexes - Creation Procedure [stpManutencao_Indices]\n",
                "\tProgram\t\t:\tNot applicable\n",
                "    Credito     :   http://www.fabriciolima.net/\n",
                "\t\t\t\n",
                "-------------------------------------------------------------------------------------------------------------------------\n",
                "*/\n",
                "\n",
                "-- >>> Start of Query\n",
                "\n",
                "-----------------------------------------------------------------------------------------------------------------------\n",
                "-- Procedure to REBUILD or REORGANIZE Index\n",
                "-----------------------------------------------------------------------------------------------------------------------\n",
                "\n",
                "USE [Traces]\n",
                "GO\n",
                "\n",
                "IF object_id('stpManutencao_Indices') IS NOT NULL\n",
                "    DROP PROCEDURE stpManutencao_Indices\n",
                "GO\n",
                "\n",
                "SET ANSI_NULLS ON\n",
                "GO\n",
                "\n",
                "SET QUOTED_IDENTIFIER ON\n",
                "GO\n",
                "\n",
                "CREATE PROCEDURE [dbo].[stpManutencao_Indices]\n",
                "AS\n",
                "BEGIN\n",
                "    SET LOCK_TIMEOUT 300000 -- Se ficar bloqueado por mais de 5 minutos, aborta.\n",
                "\n",
                "    DECLARE \n",
                "\t\t@Id INT\n",
                "        , @SQLString NVARCHAR(1000)\n",
                "\n",
                "    IF OBJECT_ID('tempdb..#Indices_Fragmentados') IS NOT NULL\n",
                "        DROP TABLE #Indices_Fragmentados\n",
                "\n",
                "    --\tSeleciona os indices fragmentados\n",
                "    SELECT identity(INT, 1, 1) Id\n",
                "        , 'ALTER INDEX [' + Nm_Indice + '] ON ' + Nm_Database + '.' + Nm_Schema + '.[' + Nm_Tabela + \n",
                "\t\tCASE \n",
                "            WHEN Avg_Fragmentation_In_Percent < 30\n",
                "                THEN '] REORGANIZE'\n",
                "            ELSE '] REBUILD'\t\t\t\t\t\t\t\t\t\t\t-- Como existe janela para isso, sempre fazer REBUILD\n",
                "        END Comando\n",
                "        , Page_Count\n",
                "        , Nm_Database\n",
                "        , Nm_Tabela\n",
                "        , Nm_Indice\n",
                "        , Fl_Compressao\n",
                "        , Avg_Fragmentation_In_Percent\n",
                "    INTO #Indices_Fragmentados\n",
                "    FROM Traces.dbo.vwHistorico_Fragmentacao_Indice A WITH (NOLOCK) \t-- Tabela que armazena o Historico de Fragmentacao\n",
                "    JOIN master.sys.databases B\n",
                "        ON B.name = A.Nm_Database\n",
                "    WHERE Dt_Referencia >= CAST(FLOOR(cast(getdate() AS FLOAT)) AS DATETIME)\n",
                "        AND Avg_Fragmentation_In_Percent >= 10\n",
                "        AND Page_Count > 1000\n",
                "        AND Nm_Indice IS NOT NULL\n",
                "        AND B.state_desc = 'ONLINE'\n",
                "\n",
                "    WHILE EXISTS (\n",
                "            SELECT Id\n",
                "            FROM #Indices_Fragmentados\n",
                "            )\n",
                "    BEGIN\n",
                "        SELECT TOP 1 @Id = Id\n",
                "            , @SQLString = Comando\n",
                "        FROM #Indices_Fragmentados\n",
                "        ORDER BY Nm_Database\n",
                "            , Page_Count\n",
                "\n",
                "        -- Realiza o REORGANIZE OU O REBUILD\n",
                "        EXECUTE sp_executesql @SQLString\n",
                "\n",
                "        DELETE\n",
                "        FROM #Indices_Fragmentados\n",
                "        WHERE Id = @Id\n",
                "    END\n",
                "END\n",
                "\n",
                "-- <<< End of Query\n",
                ""
            ],
            "metadata": {
                "language": "sql",
                "azdata_cell_guid": "59700e07-8310-4eec-bfbb-05ff6f61fa47"
            },
            "outputs": [],
            "execution_count": null
        },
        {
            "cell_type": "markdown",
            "source": [
                "# <span style=\"font-size: 28px;\"><b>Step 2 - Creation of the Job that processes REBUILD or REORGANIZE</b></span>"
            ],
            "metadata": {
                "language": "sql",
                "azdata_cell_guid": "9430b50a-f9b8-4850-a139-9b49574caa12"
            },
            "attachments": {}
        },
        {
            "cell_type": "markdown",
            "source": [
                "- **Job \\[DBA - REBUILD or REORGANIZE Index**\\]\n",
                "    - _Processa aos Sábados_\n",
                "- _**ATENÇÃO AOS AJUSTES QUE DEVEM SER FEITOS ANTES DE PROCESSAR!!!**_"
            ],
            "metadata": {
                "language": "sql",
                "azdata_cell_guid": "3b94997e-2206-4e94-88df-4ef480055df9"
            },
            "attachments": {}
        },
        {
            "cell_type": "code",
            "source": [
                "/*\n",
                "--------------------------------------------------------------------------------------------------------------------------------\n",
                "Title\t\t:\tREBUILD or REORGANIZE Index\n",
                "--------------------------------------------------------------------------------------------------------------------------------\n",
                "Author\t\t:\tGimenes\n",
                "Date\t\t:\t14/12/2023\n",
                "Requester\t:\tGimenes\n",
                "Purpose\t\t:\tDatabase Reconstruction or Reorganize Indexes - Create Job [DBA - REBUILD or REORGANIZE Index]\n",
                "Program\t\t:\tNot applicable\n",
                "Credito     :   http://www.fabriciolima.net/\n",
                "--------------------------------------------------------------------------------------------------------------------------------\n",
                "*/\n",
                "\n",
                "-- >>> Start of Query\n",
                "\n",
                "USE [msdb]\n",
                "GO\n",
                "DECLARE @jobId BINARY(16)\n",
                "EXEC  msdb.dbo.sp_add_job @job_name=N'DBA - REBUILD or REORGANIZE Index', \n",
                "\t\t@enabled=0, \t\t\t\t\t\t\t\t\t\t\t\t\t\t\t-- ATENCAO: NASCE DESABILITADO!!!\n",
                "\t\t@notify_level_eventlog=0, \n",
                "\t\t@notify_level_email=2, \n",
                "\t\t@notify_level_page=2, \n",
                "\t\t@delete_level=0, \n",
                "\t\t@description=N'Processamento REBUILD ou REORGANIZE dos Indices', \n",
                "\t\t@category_name=N'Database Maintenance', \n",
                "\t\t@owner_login_name=N'NOME_USUARIO',\t\t\t-- AJUSTAR \n",
                "\t\t@notify_email_operator_name=N'Alerta_BD', @job_id = @jobId OUTPUT\n",
                "select @jobId\n",
                "GO\n",
                "EXEC msdb.dbo.sp_add_jobserver @job_name=N'DBA - REBUILD or REORGANIZE Index', @server_name = N'NOME_SERVIDOR'  -- AJUSTAR\n",
                "GO\n",
                "USE [msdb]\n",
                "GO\n",
                "EXEC msdb.dbo.sp_add_jobstep @job_name=N'DBA - REBUILD or REORGANIZE Index', @step_name=N'Step_1', \n",
                "\t\t@step_id=1, \n",
                "\t\t@cmdexec_success_code=0, \n",
                "\t\t@on_success_action=1, \n",
                "\t\t@on_fail_action=2, \n",
                "\t\t@retry_attempts=0, \n",
                "\t\t@retry_interval=0, \n",
                "\t\t@os_run_priority=0, @subsystem=N'TSQL', \n",
                "\t\t@command=N'EXEC [dbo].[stpManutencao_Indices]', \n",
                "\t\t@database_name=N'Traces', \n",
                "\t\t@flags=0\n",
                "GO\n",
                "USE [msdb]\n",
                "GO\n",
                "EXEC msdb.dbo.sp_update_job @job_name=N'DBA - REBUILD or REORGANIZE Index', \n",
                "\t\t@enabled=1, \n",
                "\t\t@start_step_id=1, \n",
                "\t\t@notify_level_eventlog=0, \n",
                "\t\t@notify_level_email=2, \n",
                "\t\t@notify_level_page=2, \n",
                "\t\t@delete_level=0, \n",
                "\t\t@description=N'Processamento REBUILD ou REORGANIZE dos Indices', \n",
                "\t\t@category_name=N'Database Maintenance', \n",
                "\t\t@owner_login_name=N'sa', \n",
                "\t\t@notify_email_operator_name=N'Alerta_BD', \n",
                "\t\t@notify_page_operator_name=N''\n",
                "GO\n",
                "USE [msdb]\n",
                "GO\n",
                "DECLARE @schedule_id int\n",
                "EXEC msdb.dbo.sp_add_jobschedule @job_name=N'DBA - REBUILD or REORGANIZE Index', @name=N'Schedule_1', \n",
                "\t\t@enabled=1, \n",
                "\t\t@freq_type=8, \n",
                "\t\t@freq_interval=64, \n",
                "\t\t@freq_subday_type=1, \n",
                "\t\t@freq_subday_interval=0, \n",
                "\t\t@freq_relative_interval=0, \n",
                "\t\t@freq_recurrence_factor=1, \n",
                "\t\t@active_start_date=20231208, \n",
                "\t\t@active_end_date=99991231, \n",
                "\t\t@active_start_time=30000, \n",
                "\t\t@active_end_time=235959, @schedule_id = @schedule_id OUTPUT\n",
                "select @schedule_id\n",
                "GO\n",
                "\n",
                "-- <<< End of Query\n",
                ""
            ],
            "metadata": {
                "language": "sql",
                "azdata_cell_guid": "3ba79940-240b-4649-9d14-c8caf15b82fc"
            },
            "outputs": [],
            "execution_count": null
        },
        {
            "cell_type": "markdown",
            "source": [
                "* * *\n",
                "\n",
                "# <span style=\"font-size: 28px;\"><b>End of file</b></span>"
            ],
            "metadata": {
                "language": "sql",
                "azdata_cell_guid": "7afed1dc-7697-4bd6-9563-c6ee8b5141e7"
            },
            "attachments": {}
        }
    ]
}